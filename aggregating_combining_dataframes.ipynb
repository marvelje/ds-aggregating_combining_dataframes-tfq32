{
 "cells": [
  {
   "cell_type": "markdown",
   "metadata": {
    "toc": true
   },
   "source": [
    "<h1>Table of Contents<span class=\"tocSkip\"></span></h1>\n",
    "<div class=\"toc\"><ul class=\"toc-item\"><li><span><a href=\"#Aggregating-and-Combining-pandas-DataFrames\" data-toc-modified-id=\"Aggregating-and-Combining-pandas-DataFrames-1\"><span class=\"toc-item-num\">1&nbsp;&nbsp;</span>Aggregating and Combining <code>pandas</code> DataFrames</a></span><ul class=\"toc-item\"><li><span><a href=\"#Objectives\" data-toc-modified-id=\"Objectives-1.1\"><span class=\"toc-item-num\">1.1&nbsp;&nbsp;</span>Objectives</a></span></li></ul></li><li><span><a href=\"#Loading-Example-Data:-Austin-Animal-Center-Data\" data-toc-modified-id=\"Loading-Example-Data:-Austin-Animal-Center-Data-2\"><span class=\"toc-item-num\">2&nbsp;&nbsp;</span>Loading Example Data: Austin Animal Center Data</a></span></li><li><span><a href=\"#Aggregating-over-DataFrames:-.groupby()\" data-toc-modified-id=\"Aggregating-over-DataFrames:-.groupby()-3\"><span class=\"toc-item-num\">3&nbsp;&nbsp;</span>Aggregating over DataFrames: <code>.groupby()</code></a></span><ul class=\"toc-item\"><li><span><a href=\"#.groups-and-.get_group()\" data-toc-modified-id=\".groups-and-.get_group()-3.1\"><span class=\"toc-item-num\">3.1&nbsp;&nbsp;</span><code>.groups</code> and <code>.get_group()</code></a></span><ul class=\"toc-item\"><li><span><a href=\"#Multi-Indexing\" data-toc-modified-id=\"Multi-Indexing-3.1.1\"><span class=\"toc-item-num\">3.1.1&nbsp;&nbsp;</span>Multi-Indexing</a></span></li></ul></li><li><span><a href=\"#Aggregating\" data-toc-modified-id=\"Aggregating-3.2\"><span class=\"toc-item-num\">3.2&nbsp;&nbsp;</span>Aggregating</a></span></li><li><span><a href=\"#Exercise\" data-toc-modified-id=\"Exercise-3.3\"><span class=\"toc-item-num\">3.3&nbsp;&nbsp;</span>Exercise</a></span></li></ul></li><li><span><a href=\"#Pivoting-a-DataFrame\" data-toc-modified-id=\"Pivoting-a-DataFrame-4\"><span class=\"toc-item-num\">4&nbsp;&nbsp;</span>Pivoting a DataFrame</a></span><ul class=\"toc-item\"><li><span><a href=\"#.pivot_table()\" data-toc-modified-id=\".pivot_table()-4.1\"><span class=\"toc-item-num\">4.1&nbsp;&nbsp;</span><code>.pivot_table()</code></a></span><ul class=\"toc-item\"><li><span><a href=\"#Example\" data-toc-modified-id=\"Example-4.1.1\"><span class=\"toc-item-num\">4.1.1&nbsp;&nbsp;</span>Example</a></span></li><li><span><a href=\"#Back-to-Austin-animals\" data-toc-modified-id=\"Back-to-Austin-animals-4.1.2\"><span class=\"toc-item-num\">4.1.2&nbsp;&nbsp;</span>Back to Austin animals</a></span></li></ul></li><li><span><a href=\"#Exercise\" data-toc-modified-id=\"Exercise-4.2\"><span class=\"toc-item-num\">4.2&nbsp;&nbsp;</span>Exercise</a></span></li></ul></li><li><span><a href=\"#Methods-for-Combining-DataFrames:-.join(),-.merge(),-pd.concat()\" data-toc-modified-id=\"Methods-for-Combining-DataFrames:-.join(),-.merge(),-pd.concat()-5\"><span class=\"toc-item-num\">5&nbsp;&nbsp;</span>Methods for Combining DataFrames: <code>.join()</code>, <code>.merge()</code>, <code>pd.concat()</code></a></span><ul class=\"toc-item\"><li><span><a href=\"#.join()\" data-toc-modified-id=\".join()-5.1\"><span class=\"toc-item-num\">5.1&nbsp;&nbsp;</span><code>.join()</code></a></span></li><li><span><a href=\"#.merge()\" data-toc-modified-id=\".merge()-5.2\"><span class=\"toc-item-num\">5.2&nbsp;&nbsp;</span><code>.merge()</code></a></span></li><li><span><a href=\"#The-how-Parameter\" data-toc-modified-id=\"The-how-Parameter-5.3\"><span class=\"toc-item-num\">5.3&nbsp;&nbsp;</span>The <code>how</code> Parameter</a></span></li><li><span><a href=\"#pd.concat()\" data-toc-modified-id=\"pd.concat()-5.4\"><span class=\"toc-item-num\">5.4&nbsp;&nbsp;</span><code>pd.concat()</code></a></span></li></ul></li><li><span><a href=\"#King-County-Assessments\" data-toc-modified-id=\"King-County-Assessments-6\"><span class=\"toc-item-num\">6&nbsp;&nbsp;</span>King County Assessments</a></span><ul class=\"toc-item\"><li><span><a href=\"#First,-get-the-data!\" data-toc-modified-id=\"First,-get-the-data!-6.1\"><span class=\"toc-item-num\">6.1&nbsp;&nbsp;</span>First, get the data!</a></span></li><li><span><a href=\"#Exercise\" data-toc-modified-id=\"Exercise-6.2\"><span class=\"toc-item-num\">6.2&nbsp;&nbsp;</span>Exercise</a></span></li></ul></li><li><span><a href=\"#Time-Permitting:-Data-Cleaning-Exercises-with-Pandas\" data-toc-modified-id=\"Time-Permitting:-Data-Cleaning-Exercises-with-Pandas-7\"><span class=\"toc-item-num\">7&nbsp;&nbsp;</span>Time Permitting: Data Cleaning Exercises with Pandas</a></span><ul class=\"toc-item\"><li><span><a href=\"#Investigate-and-drop-rows-with-invalid-values-in-the-SalePrice-and-SqFtTotLiving-columns.\" data-toc-modified-id=\"Investigate-and-drop-rows-with-invalid-values-in-the-SalePrice-and-SqFtTotLiving-columns.-7.1\"><span class=\"toc-item-num\">7.1&nbsp;&nbsp;</span>Investigate and drop rows with invalid values in the SalePrice and SqFtTotLiving columns.</a></span></li><li><span><a href=\"#Investigate-and-handle-non-numeric-ZipCode-values\" data-toc-modified-id=\"Investigate-and-handle-non-numeric-ZipCode-values-7.2\"><span class=\"toc-item-num\">7.2&nbsp;&nbsp;</span>Investigate and handle non-numeric ZipCode values</a></span></li><li><span><a href=\"#Add-a-column-for-PricePerSqFt\" data-toc-modified-id=\"Add-a-column-for-PricePerSqFt-7.3\"><span class=\"toc-item-num\">7.3&nbsp;&nbsp;</span>Add a column for PricePerSqFt</a></span></li><li><span><a href=\"#Subset-the-data-to-2021-sales-only\" data-toc-modified-id=\"Subset-the-data-to-2021-sales-only-7.4\"><span class=\"toc-item-num\">7.4&nbsp;&nbsp;</span>Subset the data to 2021 sales only</a></span></li><li><span><a href=\"#What-is-the-mean-price-per-square-foot-for-a-house-sold-in-Seattle-in-2021?\" data-toc-modified-id=\"What-is-the-mean-price-per-square-foot-for-a-house-sold-in-Seattle-in-2021?-7.5\"><span class=\"toc-item-num\">7.5&nbsp;&nbsp;</span>What is the mean price per square foot for a house sold in Seattle in 2021?</a></span></li></ul></li><li><span><a href=\"#Level-Up:-pandas.set_option()\" data-toc-modified-id=\"Level-Up:-pandas.set_option()-8\"><span class=\"toc-item-num\">8&nbsp;&nbsp;</span>Level Up: <code>pandas.set_option()</code></a></span><ul class=\"toc-item\"><li><span><a href=\"#Block-Scientific-Notation\" data-toc-modified-id=\"Block-Scientific-Notation-8.1\"><span class=\"toc-item-num\">8.1&nbsp;&nbsp;</span>Block Scientific Notation</a></span></li><li><span><a href=\"#See-More-Rows\" data-toc-modified-id=\"See-More-Rows-8.2\"><span class=\"toc-item-num\">8.2&nbsp;&nbsp;</span>See More Rows</a></span></li></ul></li></ul></div>"
   ]
  },
  {
   "cell_type": "code",
   "execution_count": 1,
   "metadata": {},
   "outputs": [],
   "source": [
    "import pandas as pd\n",
    "import numpy as np\n",
    "import requests as rq\n",
    "from sklearn.preprocessing import OneHotEncoder\n",
    "from zipfile import ZipFile"
   ]
  },
  {
   "cell_type": "markdown",
   "metadata": {
    "heading_collapsed": true
   },
   "source": [
    "# Aggregating and Combining `pandas` DataFrames"
   ]
  },
  {
   "cell_type": "markdown",
   "metadata": {
    "heading_collapsed": true,
    "hidden": true
   },
   "source": [
    "## Objectives"
   ]
  },
  {
   "cell_type": "markdown",
   "metadata": {
    "hidden": true
   },
   "source": [
    "- Use GroupBy objects to organize and aggregate data\n",
    "- Create pivot tables from DataFrames\n",
    "- Combine DataFrames by merging and appending "
   ]
  },
  {
   "cell_type": "markdown",
   "metadata": {
    "hidden": true
   },
   "source": [
    "We'll work with the Austin Animal Center dataset and with data from King County's Department of Assessments (Seattle housing data)."
   ]
  },
  {
   "cell_type": "markdown",
   "metadata": {
    "heading_collapsed": true
   },
   "source": [
    "# Loading Example Data: Austin Animal Center Data"
   ]
  },
  {
   "cell_type": "code",
   "execution_count": 2,
   "metadata": {
    "hidden": true
   },
   "outputs": [],
   "source": [
    "data = rq.get('https://data.austintexas.gov/resource/9t4d-g238.json').text"
   ]
  },
  {
   "cell_type": "code",
   "execution_count": 3,
   "metadata": {
    "hidden": true
   },
   "outputs": [],
   "source": [
    "animals = pd.read_json(data)"
   ]
  },
  {
   "cell_type": "code",
   "execution_count": 4,
   "metadata": {
    "hidden": true
   },
   "outputs": [
    {
     "data": {
      "text/html": [
       "<div>\n",
       "<style scoped>\n",
       "    .dataframe tbody tr th:only-of-type {\n",
       "        vertical-align: middle;\n",
       "    }\n",
       "\n",
       "    .dataframe tbody tr th {\n",
       "        vertical-align: top;\n",
       "    }\n",
       "\n",
       "    .dataframe thead th {\n",
       "        text-align: right;\n",
       "    }\n",
       "</style>\n",
       "<table border=\"1\" class=\"dataframe\">\n",
       "  <thead>\n",
       "    <tr style=\"text-align: right;\">\n",
       "      <th></th>\n",
       "      <th>animal_id</th>\n",
       "      <th>datetime</th>\n",
       "      <th>monthyear</th>\n",
       "      <th>date_of_birth</th>\n",
       "      <th>outcome_type</th>\n",
       "      <th>outcome_subtype</th>\n",
       "      <th>animal_type</th>\n",
       "      <th>sex_upon_outcome</th>\n",
       "      <th>age_upon_outcome</th>\n",
       "      <th>breed</th>\n",
       "      <th>color</th>\n",
       "      <th>name</th>\n",
       "    </tr>\n",
       "  </thead>\n",
       "  <tbody>\n",
       "    <tr>\n",
       "      <th>0</th>\n",
       "      <td>A841916</td>\n",
       "      <td>2021-09-06 12:16:00</td>\n",
       "      <td>2021-09-06T12:16:00.000</td>\n",
       "      <td>2021-03-06T00:00:00.000</td>\n",
       "      <td>Euthanasia</td>\n",
       "      <td>Rabies Risk</td>\n",
       "      <td>Other</td>\n",
       "      <td>Unknown</td>\n",
       "      <td>NULL</td>\n",
       "      <td>Skunk</td>\n",
       "      <td>Black/White</td>\n",
       "      <td>NaN</td>\n",
       "    </tr>\n",
       "    <tr>\n",
       "      <th>1</th>\n",
       "      <td>A841797</td>\n",
       "      <td>2021-09-05 19:27:00</td>\n",
       "      <td>2021-09-05T19:27:00.000</td>\n",
       "      <td>2019-09-03T00:00:00.000</td>\n",
       "      <td>Euthanasia</td>\n",
       "      <td>Rabies Risk</td>\n",
       "      <td>Other</td>\n",
       "      <td>Unknown</td>\n",
       "      <td>2 years</td>\n",
       "      <td>Raccoon</td>\n",
       "      <td>Black/Gray</td>\n",
       "      <td>NaN</td>\n",
       "    </tr>\n",
       "    <tr>\n",
       "      <th>2</th>\n",
       "      <td>A841851</td>\n",
       "      <td>2021-09-05 19:27:00</td>\n",
       "      <td>2021-09-05T19:27:00.000</td>\n",
       "      <td>2021-07-04T00:00:00.000</td>\n",
       "      <td>Euthanasia</td>\n",
       "      <td>Rabies Risk</td>\n",
       "      <td>Other</td>\n",
       "      <td>Unknown</td>\n",
       "      <td>2 months</td>\n",
       "      <td>Raccoon</td>\n",
       "      <td>Black/Gray</td>\n",
       "      <td>NaN</td>\n",
       "    </tr>\n",
       "    <tr>\n",
       "      <th>3</th>\n",
       "      <td>A838096</td>\n",
       "      <td>2021-09-05 18:55:00</td>\n",
       "      <td>2021-09-05T18:55:00.000</td>\n",
       "      <td>2018-07-02T00:00:00.000</td>\n",
       "      <td>Adoption</td>\n",
       "      <td>NaN</td>\n",
       "      <td>Dog</td>\n",
       "      <td>Neutered Male</td>\n",
       "      <td>3 years</td>\n",
       "      <td>Plott Hound</td>\n",
       "      <td>Brown Brindle</td>\n",
       "      <td>Tex</td>\n",
       "    </tr>\n",
       "    <tr>\n",
       "      <th>4</th>\n",
       "      <td>A841829</td>\n",
       "      <td>2021-09-05 18:15:00</td>\n",
       "      <td>2021-09-05T18:15:00.000</td>\n",
       "      <td>2014-09-03T00:00:00.000</td>\n",
       "      <td>Euthanasia</td>\n",
       "      <td>Suffering</td>\n",
       "      <td>Dog</td>\n",
       "      <td>Spayed Female</td>\n",
       "      <td>7 years</td>\n",
       "      <td>Labrador Retriever Mix</td>\n",
       "      <td>Brown</td>\n",
       "      <td>Hershey</td>\n",
       "    </tr>\n",
       "  </tbody>\n",
       "</table>\n",
       "</div>"
      ],
      "text/plain": [
       "  animal_id            datetime                monthyear  \\\n",
       "0   A841916 2021-09-06 12:16:00  2021-09-06T12:16:00.000   \n",
       "1   A841797 2021-09-05 19:27:00  2021-09-05T19:27:00.000   \n",
       "2   A841851 2021-09-05 19:27:00  2021-09-05T19:27:00.000   \n",
       "3   A838096 2021-09-05 18:55:00  2021-09-05T18:55:00.000   \n",
       "4   A841829 2021-09-05 18:15:00  2021-09-05T18:15:00.000   \n",
       "\n",
       "             date_of_birth outcome_type outcome_subtype animal_type  \\\n",
       "0  2021-03-06T00:00:00.000   Euthanasia     Rabies Risk       Other   \n",
       "1  2019-09-03T00:00:00.000   Euthanasia     Rabies Risk       Other   \n",
       "2  2021-07-04T00:00:00.000   Euthanasia     Rabies Risk       Other   \n",
       "3  2018-07-02T00:00:00.000     Adoption             NaN         Dog   \n",
       "4  2014-09-03T00:00:00.000   Euthanasia       Suffering         Dog   \n",
       "\n",
       "  sex_upon_outcome age_upon_outcome                   breed          color  \\\n",
       "0          Unknown             NULL                   Skunk    Black/White   \n",
       "1          Unknown          2 years                 Raccoon     Black/Gray   \n",
       "2          Unknown         2 months                 Raccoon     Black/Gray   \n",
       "3    Neutered Male          3 years             Plott Hound  Brown Brindle   \n",
       "4    Spayed Female          7 years  Labrador Retriever Mix          Brown   \n",
       "\n",
       "      name  \n",
       "0      NaN  \n",
       "1      NaN  \n",
       "2      NaN  \n",
       "3      Tex  \n",
       "4  Hershey  "
      ]
     },
     "execution_count": 4,
     "metadata": {},
     "output_type": "execute_result"
    }
   ],
   "source": [
    "animals.head()"
   ]
  },
  {
   "cell_type": "markdown",
   "metadata": {
    "heading_collapsed": true
   },
   "source": [
    "# Aggregating over DataFrames: `.groupby()`"
   ]
  },
  {
   "cell_type": "markdown",
   "metadata": {
    "hidden": true
   },
   "source": [
    "Those of you familiar with SQL have probably used the GROUP BY command. (And if you haven't, you'll see it very soon!) Pandas has this, too.\n",
    "\n",
    "The `.groupby()` method is especially useful for aggregate functions applied to the data grouped in particular ways."
   ]
  },
  {
   "cell_type": "code",
   "execution_count": 5,
   "metadata": {
    "hidden": true
   },
   "outputs": [
    {
     "data": {
      "text/plain": [
       "<pandas.core.groupby.generic.DataFrameGroupBy object at 0x7fae60123d60>"
      ]
     },
     "execution_count": 5,
     "metadata": {},
     "output_type": "execute_result"
    }
   ],
   "source": [
    "animals.groupby('animal_type')"
   ]
  },
  {
   "cell_type": "code",
   "execution_count": 6,
   "metadata": {
    "hidden": true
   },
   "outputs": [
    {
     "data": {
      "text/plain": [
       "Index(['animal_id', 'datetime', 'monthyear', 'date_of_birth', 'outcome_type',\n",
       "       'outcome_subtype', 'animal_type', 'sex_upon_outcome',\n",
       "       'age_upon_outcome', 'breed', 'color', 'name'],\n",
       "      dtype='object')"
      ]
     },
     "execution_count": 6,
     "metadata": {},
     "output_type": "execute_result"
    }
   ],
   "source": [
    "animals.columns"
   ]
  },
  {
   "cell_type": "markdown",
   "metadata": {
    "hidden": true
   },
   "source": [
    "We can group by multiple columns, and also return a DataFrameGroupBy object\n",
    "\n",
    "Notice the object type [DataFrameGroupBy](https://pandas.pydata.org/pandas-docs/stable/user_guide/groupby.html) object. "
   ]
  },
  {
   "cell_type": "markdown",
   "metadata": {
    "heading_collapsed": true,
    "hidden": true
   },
   "source": [
    "## `.groups` and `.get_group()`"
   ]
  },
  {
   "cell_type": "code",
   "execution_count": 7,
   "metadata": {
    "hidden": true
   },
   "outputs": [
    {
     "data": {
      "text/plain": [
       "<pandas.core.groupby.generic.DataFrameGroupBy object at 0x7fae60123fd0>"
      ]
     },
     "execution_count": 7,
     "metadata": {},
     "output_type": "execute_result"
    }
   ],
   "source": [
    "animals.groupby(['animal_type', 'outcome_type'])"
   ]
  },
  {
   "cell_type": "code",
   "execution_count": 14,
   "metadata": {
    "hidden": true
   },
   "outputs": [
    {
     "data": {
      "text/plain": [
       "{'Bird': [593, 604], 'Cat': [5, 7, 8, 9, 11, 12, 13, 14, 15, 16, 17, 18, 19, 24, 28, 31, 35, 45, 46, 47, 48, 50, 54, 56, 63, 66, 67, 68, 70, 71, 75, 82, 84, 86, 87, 88, 89, 90, 91, 92, 95, 96, 98, 100, 101, 108, 111, 112, 117, 118, 120, 122, 123, 128, 129, 130, 131, 134, 135, 139, 140, 141, 144, 147, 149, 155, 157, 158, 166, 167, 168, 169, 170, 172, 173, 174, 179, 183, 184, 186, 189, 191, 192, 193, 195, 197, 198, 199, 200, 201, 202, 203, 204, 205, 206, 207, 213, 214, 215, 216, ...], 'Dog': [3, 4, 6, 10, 20, 21, 22, 23, 25, 26, 27, 29, 30, 32, 34, 36, 37, 38, 39, 40, 41, 42, 43, 44, 49, 51, 52, 55, 57, 58, 59, 60, 61, 62, 64, 65, 72, 73, 74, 76, 77, 79, 80, 81, 83, 85, 93, 94, 97, 99, 102, 103, 104, 105, 106, 107, 109, 110, 113, 114, 115, 116, 119, 121, 124, 125, 126, 127, 132, 133, 136, 137, 142, 143, 145, 146, 148, 150, 151, 152, 153, 154, 156, 159, 163, 164, 165, 171, 175, 176, 177, 178, 180, 185, 187, 188, 190, 194, 196, 208, ...], 'Other': [0, 1, 2, 33, 53, 69, 78, 138, 160, 161, 162, 181, 182, 277, 278, 291, 334, 363, 364, 365, 366, 420, 458, 563, 566, 601, 660, 724, 732, 811, 911, 912, 913, 966, 967, 970, 971, 986]}"
      ]
     },
     "execution_count": 14,
     "metadata": {},
     "output_type": "execute_result"
    }
   ],
   "source": [
    "# This retuns each group indexed by the group name, e.g. 'Bird',\n",
    "# along with the row indices of each value\n",
    "\n",
    "animals.groupby('animal_type').groups"
   ]
  },
  {
   "cell_type": "markdown",
   "metadata": {
    "hidden": true
   },
   "source": [
    "Once we know we are working with a type of object, it opens up a suite of attributes and methods. One attribute we can look at is groups."
   ]
  },
  {
   "cell_type": "code",
   "execution_count": 9,
   "metadata": {
    "hidden": true
   },
   "outputs": [
    {
     "data": {
      "text/html": [
       "<div>\n",
       "<style scoped>\n",
       "    .dataframe tbody tr th:only-of-type {\n",
       "        vertical-align: middle;\n",
       "    }\n",
       "\n",
       "    .dataframe tbody tr th {\n",
       "        vertical-align: top;\n",
       "    }\n",
       "\n",
       "    .dataframe thead th {\n",
       "        text-align: right;\n",
       "    }\n",
       "</style>\n",
       "<table border=\"1\" class=\"dataframe\">\n",
       "  <thead>\n",
       "    <tr style=\"text-align: right;\">\n",
       "      <th></th>\n",
       "      <th>animal_id</th>\n",
       "      <th>datetime</th>\n",
       "      <th>monthyear</th>\n",
       "      <th>date_of_birth</th>\n",
       "      <th>outcome_type</th>\n",
       "      <th>outcome_subtype</th>\n",
       "      <th>animal_type</th>\n",
       "      <th>sex_upon_outcome</th>\n",
       "      <th>age_upon_outcome</th>\n",
       "      <th>breed</th>\n",
       "      <th>color</th>\n",
       "      <th>name</th>\n",
       "    </tr>\n",
       "  </thead>\n",
       "  <tbody>\n",
       "    <tr>\n",
       "      <th>3</th>\n",
       "      <td>A838096</td>\n",
       "      <td>2021-09-05 18:55:00</td>\n",
       "      <td>2021-09-05T18:55:00.000</td>\n",
       "      <td>2018-07-02T00:00:00.000</td>\n",
       "      <td>Adoption</td>\n",
       "      <td>NaN</td>\n",
       "      <td>Dog</td>\n",
       "      <td>Neutered Male</td>\n",
       "      <td>3 years</td>\n",
       "      <td>Plott Hound</td>\n",
       "      <td>Brown Brindle</td>\n",
       "      <td>Tex</td>\n",
       "    </tr>\n",
       "    <tr>\n",
       "      <th>4</th>\n",
       "      <td>A841829</td>\n",
       "      <td>2021-09-05 18:15:00</td>\n",
       "      <td>2021-09-05T18:15:00.000</td>\n",
       "      <td>2014-09-03T00:00:00.000</td>\n",
       "      <td>Euthanasia</td>\n",
       "      <td>Suffering</td>\n",
       "      <td>Dog</td>\n",
       "      <td>Spayed Female</td>\n",
       "      <td>7 years</td>\n",
       "      <td>Labrador Retriever Mix</td>\n",
       "      <td>Brown</td>\n",
       "      <td>Hershey</td>\n",
       "    </tr>\n",
       "    <tr>\n",
       "      <th>6</th>\n",
       "      <td>A840762</td>\n",
       "      <td>2021-09-05 17:58:00</td>\n",
       "      <td>2021-09-05T17:58:00.000</td>\n",
       "      <td>2019-08-13T00:00:00.000</td>\n",
       "      <td>Adoption</td>\n",
       "      <td>NaN</td>\n",
       "      <td>Dog</td>\n",
       "      <td>Neutered Male</td>\n",
       "      <td>2 years</td>\n",
       "      <td>Boxer Mix</td>\n",
       "      <td>Red/White</td>\n",
       "      <td>*Marco</td>\n",
       "    </tr>\n",
       "    <tr>\n",
       "      <th>10</th>\n",
       "      <td>A840175</td>\n",
       "      <td>2021-09-05 17:21:00</td>\n",
       "      <td>2021-09-05T17:21:00.000</td>\n",
       "      <td>2021-04-03T00:00:00.000</td>\n",
       "      <td>Adoption</td>\n",
       "      <td>NaN</td>\n",
       "      <td>Dog</td>\n",
       "      <td>Spayed Female</td>\n",
       "      <td>5 months</td>\n",
       "      <td>Labrador Retriever</td>\n",
       "      <td>Black Brindle/White</td>\n",
       "      <td>*Holly</td>\n",
       "    </tr>\n",
       "    <tr>\n",
       "      <th>20</th>\n",
       "      <td>A835952</td>\n",
       "      <td>2021-09-05 16:42:00</td>\n",
       "      <td>2021-09-05T16:42:00.000</td>\n",
       "      <td>2019-12-03T00:00:00.000</td>\n",
       "      <td>Adoption</td>\n",
       "      <td>NaN</td>\n",
       "      <td>Dog</td>\n",
       "      <td>Neutered Male</td>\n",
       "      <td>1 year</td>\n",
       "      <td>Pit Bull Mix</td>\n",
       "      <td>Brown Brindle</td>\n",
       "      <td>Draco</td>\n",
       "    </tr>\n",
       "    <tr>\n",
       "      <th>...</th>\n",
       "      <td>...</td>\n",
       "      <td>...</td>\n",
       "      <td>...</td>\n",
       "      <td>...</td>\n",
       "      <td>...</td>\n",
       "      <td>...</td>\n",
       "      <td>...</td>\n",
       "      <td>...</td>\n",
       "      <td>...</td>\n",
       "      <td>...</td>\n",
       "      <td>...</td>\n",
       "      <td>...</td>\n",
       "    </tr>\n",
       "    <tr>\n",
       "      <th>985</th>\n",
       "      <td>A671512</td>\n",
       "      <td>2021-08-12 16:31:00</td>\n",
       "      <td>2021-08-12T16:31:00.000</td>\n",
       "      <td>2013-01-25T00:00:00.000</td>\n",
       "      <td>Adoption</td>\n",
       "      <td>NaN</td>\n",
       "      <td>Dog</td>\n",
       "      <td>Spayed Female</td>\n",
       "      <td>8 years</td>\n",
       "      <td>Labrador Retriever Mix</td>\n",
       "      <td>Brown</td>\n",
       "      <td>Zephyr</td>\n",
       "    </tr>\n",
       "    <tr>\n",
       "      <th>988</th>\n",
       "      <td>A840349</td>\n",
       "      <td>2021-08-12 16:16:00</td>\n",
       "      <td>2021-08-12T16:16:00.000</td>\n",
       "      <td>2021-04-12T00:00:00.000</td>\n",
       "      <td>Adoption</td>\n",
       "      <td>NaN</td>\n",
       "      <td>Dog</td>\n",
       "      <td>Spayed Female</td>\n",
       "      <td>4 months</td>\n",
       "      <td>Australian Cattle Dog Mix</td>\n",
       "      <td>Black/Tricolor</td>\n",
       "      <td>Lucy Lu</td>\n",
       "    </tr>\n",
       "    <tr>\n",
       "      <th>989</th>\n",
       "      <td>A840686</td>\n",
       "      <td>2021-08-12 15:42:00</td>\n",
       "      <td>2021-08-12T15:42:00.000</td>\n",
       "      <td>2019-08-12T00:00:00.000</td>\n",
       "      <td>Return to Owner</td>\n",
       "      <td>NaN</td>\n",
       "      <td>Dog</td>\n",
       "      <td>Intact Male</td>\n",
       "      <td>2 years</td>\n",
       "      <td>German Shepherd</td>\n",
       "      <td>Black/Tan</td>\n",
       "      <td>Max</td>\n",
       "    </tr>\n",
       "    <tr>\n",
       "      <th>998</th>\n",
       "      <td>A839647</td>\n",
       "      <td>2021-08-12 14:04:00</td>\n",
       "      <td>2021-08-12T14:04:00.000</td>\n",
       "      <td>2017-07-25T00:00:00.000</td>\n",
       "      <td>Adoption</td>\n",
       "      <td>NaN</td>\n",
       "      <td>Dog</td>\n",
       "      <td>Neutered Male</td>\n",
       "      <td>4 years</td>\n",
       "      <td>Labrador Retriever</td>\n",
       "      <td>Black/White</td>\n",
       "      <td>Aksel</td>\n",
       "    </tr>\n",
       "    <tr>\n",
       "      <th>999</th>\n",
       "      <td>A840618</td>\n",
       "      <td>2021-08-12 13:23:00</td>\n",
       "      <td>2021-08-12T13:23:00.000</td>\n",
       "      <td>2010-10-11T00:00:00.000</td>\n",
       "      <td>Return to Owner</td>\n",
       "      <td>NaN</td>\n",
       "      <td>Dog</td>\n",
       "      <td>Neutered Male</td>\n",
       "      <td>10 years</td>\n",
       "      <td>Maltese</td>\n",
       "      <td>White</td>\n",
       "      <td>Muffins</td>\n",
       "    </tr>\n",
       "  </tbody>\n",
       "</table>\n",
       "<p>469 rows × 12 columns</p>\n",
       "</div>"
      ],
      "text/plain": [
       "    animal_id            datetime                monthyear  \\\n",
       "3     A838096 2021-09-05 18:55:00  2021-09-05T18:55:00.000   \n",
       "4     A841829 2021-09-05 18:15:00  2021-09-05T18:15:00.000   \n",
       "6     A840762 2021-09-05 17:58:00  2021-09-05T17:58:00.000   \n",
       "10    A840175 2021-09-05 17:21:00  2021-09-05T17:21:00.000   \n",
       "20    A835952 2021-09-05 16:42:00  2021-09-05T16:42:00.000   \n",
       "..        ...                 ...                      ...   \n",
       "985   A671512 2021-08-12 16:31:00  2021-08-12T16:31:00.000   \n",
       "988   A840349 2021-08-12 16:16:00  2021-08-12T16:16:00.000   \n",
       "989   A840686 2021-08-12 15:42:00  2021-08-12T15:42:00.000   \n",
       "998   A839647 2021-08-12 14:04:00  2021-08-12T14:04:00.000   \n",
       "999   A840618 2021-08-12 13:23:00  2021-08-12T13:23:00.000   \n",
       "\n",
       "               date_of_birth     outcome_type outcome_subtype animal_type  \\\n",
       "3    2018-07-02T00:00:00.000         Adoption             NaN         Dog   \n",
       "4    2014-09-03T00:00:00.000       Euthanasia       Suffering         Dog   \n",
       "6    2019-08-13T00:00:00.000         Adoption             NaN         Dog   \n",
       "10   2021-04-03T00:00:00.000         Adoption             NaN         Dog   \n",
       "20   2019-12-03T00:00:00.000         Adoption             NaN         Dog   \n",
       "..                       ...              ...             ...         ...   \n",
       "985  2013-01-25T00:00:00.000         Adoption             NaN         Dog   \n",
       "988  2021-04-12T00:00:00.000         Adoption             NaN         Dog   \n",
       "989  2019-08-12T00:00:00.000  Return to Owner             NaN         Dog   \n",
       "998  2017-07-25T00:00:00.000         Adoption             NaN         Dog   \n",
       "999  2010-10-11T00:00:00.000  Return to Owner             NaN         Dog   \n",
       "\n",
       "    sex_upon_outcome age_upon_outcome                      breed  \\\n",
       "3      Neutered Male          3 years                Plott Hound   \n",
       "4      Spayed Female          7 years     Labrador Retriever Mix   \n",
       "6      Neutered Male          2 years                  Boxer Mix   \n",
       "10     Spayed Female         5 months         Labrador Retriever   \n",
       "20     Neutered Male           1 year               Pit Bull Mix   \n",
       "..               ...              ...                        ...   \n",
       "985    Spayed Female          8 years     Labrador Retriever Mix   \n",
       "988    Spayed Female         4 months  Australian Cattle Dog Mix   \n",
       "989      Intact Male          2 years            German Shepherd   \n",
       "998    Neutered Male          4 years         Labrador Retriever   \n",
       "999    Neutered Male         10 years                    Maltese   \n",
       "\n",
       "                   color     name  \n",
       "3          Brown Brindle      Tex  \n",
       "4                  Brown  Hershey  \n",
       "6              Red/White   *Marco  \n",
       "10   Black Brindle/White   *Holly  \n",
       "20         Brown Brindle    Draco  \n",
       "..                   ...      ...  \n",
       "985                Brown   Zephyr  \n",
       "988       Black/Tricolor  Lucy Lu  \n",
       "989            Black/Tan      Max  \n",
       "998          Black/White    Aksel  \n",
       "999                White  Muffins  \n",
       "\n",
       "[469 rows x 12 columns]"
      ]
     },
     "execution_count": 9,
     "metadata": {},
     "output_type": "execute_result"
    }
   ],
   "source": [
    "# Once we know the group indices, we can return the groups using those indices.\n",
    "animals.groupby('animal_type').get_group('Dog')"
   ]
  },
  {
   "cell_type": "markdown",
   "metadata": {
    "heading_collapsed": true,
    "hidden": true
   },
   "source": [
    "### Multi-Indexing"
   ]
  },
  {
   "cell_type": "code",
   "execution_count": 12,
   "metadata": {
    "hidden": true
   },
   "outputs": [
    {
     "data": {
      "text/plain": [
       "{('Other', 'Euthanasia'): [0, 1, 2, 33, 53, 69, 138, 277, 278, 334, 563, 566, 660, 986], ('Dog', 'Adoption'): [3, 6, 10, 20, 21, 22, 23, 25, 26, 27, 32, 43, 44, 49, 51, 52, 55, 57, 58, 59, 62, 64, 65, 73, 77, 80, 93, 97, 105, 106, 113, 115, 116, 119, 124, 125, 126, 127, 133, 136, 137, 143, 145, 146, 148, 150, 151, 152, 153, 154, 156, 163, 165, 178, 180, 185, 188, 190, 194, 196, 209, 218, 219, 227, 228, 230, 232, 234, 236, 238, 241, 243, 248, 249, 257, 258, 262, 263, 268, 269, 274, 276, 284, 286, 289, 296, 297, 298, 299, 300, 305, 308, 309, 341, 344, 345, 346, 347, 349, 350, ...], ('Dog', 'Euthanasia'): [4, 480, 505], ('Cat', 'Adoption'): [5, 7, 8, 9, 11, 12, 18, 19, 24, 31, 35, 45, 46, 47, 48, 50, 54, 56, 63, 66, 68, 70, 71, 75, 82, 84, 92, 95, 98, 100, 112, 117, 118, 120, 122, 123, 128, 129, 130, 131, 144, 147, 149, 155, 158, 168, 169, 170, 173, 174, 179, 183, 186, 189, 191, 192, 193, 195, 216, 220, 221, 222, 223, 224, 225, 231, 233, 235, 237, 239, 240, 242, 245, 246, 247, 250, 251, 252, 253, 254, 255, 264, 265, 266, 267, 272, 273, 275, 281, 282, 283, 285, 290, 301, 303, 304, 306, 307, 320, 326, ...], ('Cat', 'Transfer'): [13, 14, 15, 16, 17, 67, 86, 87, 88, 89, 90, 91, 96, 101, 108, 111, 134, 135, 141, 157, 166, 167, 172, 197, 198, 199, 200, 201, 202, 203, 204, 205, 206, 207, 292, 293, 294, 310, 311, 312, 313, 314, 315, 316, 317, 318, 319, 356, 357, 358, 359, 360, 361, 374, 375, 376, 390, 391, 392, 393, 394, 395, 425, 426, 427, 433, 436, 438, 440, 441, 451, 456, 466, 475, 476, 477, 492, 493, 511, 526, 564, 565, 681, 682, 683, 698, 699, 700, 701, 702, 721, 725, 726, 727, 728, 745, 776, 780, 781, 782, ...], ('Cat', 'Euthanasia'): [28, 139, 140, 184, 213, 259, 302, 445, 545, 609, 779, 855, 975], ('Dog', 'Transfer'): [29, 30, 34, 36, 38, 39, 40, 41, 42, 60, 61, 72, 76, 99, 102, 103, 104, 107, 109, 110, 159, 164, 171, 175, 176, 177, 187, 210, 211, 212, 244, 270, 287, 288, 295, 321, 322, 323, 324, 325, 330, 338, 339, 355, 367, 368, 377, 378, 380, 381, 403, 407, 423, 494, 495, 496, 497, 498, 499, 500, 528, 597, 598, 606, 631, 656, 659, 668, 716, 717, 720, 738, 761, 810, 820, 821, 874, 880, 881, 882, 883, 884, 885, 886, 903, 914, 919, 925, 983], ('Dog', 'Return to Owner'): [37, 74, 79, 81, 85, 114, 142, 208, 217, 229, 260, 261, 271, 279, 327, 328, 329, 333, 336, 399, 406, 408, 410, 417, 421, 431, 437, 439, 462, 471, 473, 474, 487, 504, 531, 532, 547, 550, 616, 618, 654, 655, 658, 661, 662, 665, 711, 712, 718, 719, 785, 814, 815, 822, 823, 833, 852, 853, 856, 872, 879, 897, 968, 989, 999], ('Other', 'Rto-Adopt'): [78], ('Dog', 'Rto-Adopt'): [83, 94, 121, 132, 280, 621, 626, 790], ('Other', 'Transfer'): [160, 161, 162, 811], ('Other', 'Adoption'): [181, 182, 291, 363, 364, 365, 366, 420, 601, 966, 967, 970, 971], ('Cat', 'Died'): [214, 215, 402, 489], ('Dog', nan): [226], ('Dog', 'Died'): [256, 424], ('Cat', 'Disposal'): [343], ('Cat', 'Return to Owner'): [388, 479, 663, 664, 813, 878, 938], ('Other', 'Disposal'): [458, 724], ('Bird', 'Euthanasia'): [593, 604], ('Cat', 'Rto-Adopt'): [722], ('Other', 'Return to Owner'): [732, 911, 912, 913]}"
      ]
     },
     "execution_count": 12,
     "metadata": {},
     "output_type": "execute_result"
    }
   ],
   "source": [
    "# Same goes for multi-index groupbys\n",
    "animal_outcome = animals.groupby(['animal_type', 'outcome_type'])\n",
    "animal_outcome.groups"
   ]
  },
  {
   "cell_type": "code",
   "execution_count": 15,
   "metadata": {
    "hidden": true
   },
   "outputs": [
    {
     "data": {
      "text/plain": [
       "dict_keys([('Other', 'Euthanasia'), ('Dog', 'Adoption'), ('Dog', 'Euthanasia'), ('Cat', 'Adoption'), ('Cat', 'Transfer'), ('Cat', 'Euthanasia'), ('Dog', 'Transfer'), ('Dog', 'Return to Owner'), ('Other', 'Rto-Adopt'), ('Dog', 'Rto-Adopt'), ('Other', 'Transfer'), ('Other', 'Adoption'), ('Cat', 'Died'), ('Dog', nan), ('Dog', 'Died'), ('Cat', 'Disposal'), ('Cat', 'Return to Owner'), ('Other', 'Disposal'), ('Bird', 'Euthanasia'), ('Cat', 'Rto-Adopt'), ('Other', 'Return to Owner')])"
      ]
     },
     "execution_count": 15,
     "metadata": {},
     "output_type": "execute_result"
    }
   ],
   "source": [
    "# animal_outcome.groups is a dictionary, so we can access the group names using keys()\n",
    "animal_outcome.groups.keys()"
   ]
  },
  {
   "cell_type": "code",
   "execution_count": 16,
   "metadata": {},
   "outputs": [
    {
     "data": {
      "text/plain": [
       "Cat      491\n",
       "Dog      469\n",
       "Other     38\n",
       "Bird       2\n",
       "Name: animal_type, dtype: int64"
      ]
     },
     "execution_count": 16,
     "metadata": {},
     "output_type": "execute_result"
    }
   ],
   "source": [
    "animals['animal_type'].value_counts()"
   ]
  },
  {
   "cell_type": "code",
   "execution_count": null,
   "metadata": {},
   "outputs": [],
   "source": [
    "animals['outcome_type'].value_counts()"
   ]
  },
  {
   "cell_type": "code",
   "execution_count": 17,
   "metadata": {
    "hidden": true
   },
   "outputs": [
    {
     "data": {
      "text/html": [
       "<div>\n",
       "<style scoped>\n",
       "    .dataframe tbody tr th:only-of-type {\n",
       "        vertical-align: middle;\n",
       "    }\n",
       "\n",
       "    .dataframe tbody tr th {\n",
       "        vertical-align: top;\n",
       "    }\n",
       "\n",
       "    .dataframe thead th {\n",
       "        text-align: right;\n",
       "    }\n",
       "</style>\n",
       "<table border=\"1\" class=\"dataframe\">\n",
       "  <thead>\n",
       "    <tr style=\"text-align: right;\">\n",
       "      <th></th>\n",
       "      <th>animal_id</th>\n",
       "      <th>datetime</th>\n",
       "      <th>monthyear</th>\n",
       "      <th>date_of_birth</th>\n",
       "      <th>outcome_type</th>\n",
       "      <th>outcome_subtype</th>\n",
       "      <th>animal_type</th>\n",
       "      <th>sex_upon_outcome</th>\n",
       "      <th>age_upon_outcome</th>\n",
       "      <th>breed</th>\n",
       "      <th>color</th>\n",
       "      <th>name</th>\n",
       "    </tr>\n",
       "  </thead>\n",
       "  <tbody>\n",
       "    <tr>\n",
       "      <th>5</th>\n",
       "      <td>A840489</td>\n",
       "      <td>2021-09-05 18:08:00</td>\n",
       "      <td>2021-09-05T18:08:00.000</td>\n",
       "      <td>2021-04-25T00:00:00.000</td>\n",
       "      <td>Adoption</td>\n",
       "      <td>NaN</td>\n",
       "      <td>Cat</td>\n",
       "      <td>Neutered Male</td>\n",
       "      <td>4 months</td>\n",
       "      <td>Domestic Shorthair</td>\n",
       "      <td>Brown Tabby</td>\n",
       "      <td>*Charlie</td>\n",
       "    </tr>\n",
       "    <tr>\n",
       "      <th>7</th>\n",
       "      <td>A839337</td>\n",
       "      <td>2021-09-05 17:47:00</td>\n",
       "      <td>2021-09-05T17:47:00.000</td>\n",
       "      <td>2021-05-05T00:00:00.000</td>\n",
       "      <td>Adoption</td>\n",
       "      <td>NaN</td>\n",
       "      <td>Cat</td>\n",
       "      <td>Spayed Female</td>\n",
       "      <td>4 months</td>\n",
       "      <td>Domestic Shorthair Mix</td>\n",
       "      <td>Tortie</td>\n",
       "      <td>Tina Turner</td>\n",
       "    </tr>\n",
       "    <tr>\n",
       "      <th>8</th>\n",
       "      <td>A841761</td>\n",
       "      <td>2021-09-05 17:33:00</td>\n",
       "      <td>2021-09-05T17:33:00.000</td>\n",
       "      <td>2021-05-02T00:00:00.000</td>\n",
       "      <td>Adoption</td>\n",
       "      <td>NaN</td>\n",
       "      <td>Cat</td>\n",
       "      <td>Spayed Female</td>\n",
       "      <td>4 months</td>\n",
       "      <td>Domestic Shorthair Mix</td>\n",
       "      <td>Torbie</td>\n",
       "      <td>Papaya</td>\n",
       "    </tr>\n",
       "    <tr>\n",
       "      <th>9</th>\n",
       "      <td>A841763</td>\n",
       "      <td>2021-09-05 17:32:00</td>\n",
       "      <td>2021-09-05T17:32:00.000</td>\n",
       "      <td>2021-05-02T00:00:00.000</td>\n",
       "      <td>Adoption</td>\n",
       "      <td>NaN</td>\n",
       "      <td>Cat</td>\n",
       "      <td>Spayed Female</td>\n",
       "      <td>4 months</td>\n",
       "      <td>Domestic Shorthair Mix</td>\n",
       "      <td>Tortie</td>\n",
       "      <td>Mango</td>\n",
       "    </tr>\n",
       "    <tr>\n",
       "      <th>11</th>\n",
       "      <td>A841210</td>\n",
       "      <td>2021-09-05 17:13:00</td>\n",
       "      <td>2021-09-05T17:13:00.000</td>\n",
       "      <td>2013-09-05T00:00:00.000</td>\n",
       "      <td>Adoption</td>\n",
       "      <td>NaN</td>\n",
       "      <td>Cat</td>\n",
       "      <td>Neutered Male</td>\n",
       "      <td>8 years</td>\n",
       "      <td>Domestic Longhair</td>\n",
       "      <td>Blue</td>\n",
       "      <td>Camus</td>\n",
       "    </tr>\n",
       "    <tr>\n",
       "      <th>...</th>\n",
       "      <td>...</td>\n",
       "      <td>...</td>\n",
       "      <td>...</td>\n",
       "      <td>...</td>\n",
       "      <td>...</td>\n",
       "      <td>...</td>\n",
       "      <td>...</td>\n",
       "      <td>...</td>\n",
       "      <td>...</td>\n",
       "      <td>...</td>\n",
       "      <td>...</td>\n",
       "      <td>...</td>\n",
       "    </tr>\n",
       "    <tr>\n",
       "      <th>974</th>\n",
       "      <td>A823674</td>\n",
       "      <td>2021-08-13 11:11:00</td>\n",
       "      <td>2021-08-13T11:11:00.000</td>\n",
       "      <td>2020-08-18T00:00:00.000</td>\n",
       "      <td>Adoption</td>\n",
       "      <td>Foster</td>\n",
       "      <td>Cat</td>\n",
       "      <td>Neutered Male</td>\n",
       "      <td>11 months</td>\n",
       "      <td>Domestic Shorthair</td>\n",
       "      <td>Black/White</td>\n",
       "      <td>*River</td>\n",
       "    </tr>\n",
       "    <tr>\n",
       "      <th>976</th>\n",
       "      <td>A840570</td>\n",
       "      <td>2021-08-12 19:01:00</td>\n",
       "      <td>2021-08-12T19:01:00.000</td>\n",
       "      <td>2021-05-10T00:00:00.000</td>\n",
       "      <td>Adoption</td>\n",
       "      <td>NaN</td>\n",
       "      <td>Cat</td>\n",
       "      <td>Spayed Female</td>\n",
       "      <td>3 months</td>\n",
       "      <td>Domestic Shorthair</td>\n",
       "      <td>Orange Tabby</td>\n",
       "      <td>*Neko</td>\n",
       "    </tr>\n",
       "    <tr>\n",
       "      <th>981</th>\n",
       "      <td>A839838</td>\n",
       "      <td>2021-08-12 18:39:00</td>\n",
       "      <td>2021-08-12T18:39:00.000</td>\n",
       "      <td>2021-06-06T00:00:00.000</td>\n",
       "      <td>Adoption</td>\n",
       "      <td>NaN</td>\n",
       "      <td>Cat</td>\n",
       "      <td>Spayed Female</td>\n",
       "      <td>2 months</td>\n",
       "      <td>Domestic Medium Hair</td>\n",
       "      <td>Brown Tabby</td>\n",
       "      <td>A839838</td>\n",
       "    </tr>\n",
       "    <tr>\n",
       "      <th>982</th>\n",
       "      <td>A837241</td>\n",
       "      <td>2021-08-12 17:27:00</td>\n",
       "      <td>2021-08-12T17:27:00.000</td>\n",
       "      <td>2021-05-17T00:00:00.000</td>\n",
       "      <td>Adoption</td>\n",
       "      <td>Foster</td>\n",
       "      <td>Cat</td>\n",
       "      <td>Spayed Female</td>\n",
       "      <td>2 months</td>\n",
       "      <td>Domestic Shorthair</td>\n",
       "      <td>Lynx Point</td>\n",
       "      <td>A837241</td>\n",
       "    </tr>\n",
       "    <tr>\n",
       "      <th>987</th>\n",
       "      <td>A839550</td>\n",
       "      <td>2021-08-12 16:21:00</td>\n",
       "      <td>2021-08-12T16:21:00.000</td>\n",
       "      <td>2021-05-08T00:00:00.000</td>\n",
       "      <td>Adoption</td>\n",
       "      <td>NaN</td>\n",
       "      <td>Cat</td>\n",
       "      <td>Spayed Female</td>\n",
       "      <td>3 months</td>\n",
       "      <td>Domestic Shorthair Mix</td>\n",
       "      <td>Calico</td>\n",
       "      <td>A839550</td>\n",
       "    </tr>\n",
       "  </tbody>\n",
       "</table>\n",
       "<p>341 rows × 12 columns</p>\n",
       "</div>"
      ],
      "text/plain": [
       "    animal_id            datetime                monthyear  \\\n",
       "5     A840489 2021-09-05 18:08:00  2021-09-05T18:08:00.000   \n",
       "7     A839337 2021-09-05 17:47:00  2021-09-05T17:47:00.000   \n",
       "8     A841761 2021-09-05 17:33:00  2021-09-05T17:33:00.000   \n",
       "9     A841763 2021-09-05 17:32:00  2021-09-05T17:32:00.000   \n",
       "11    A841210 2021-09-05 17:13:00  2021-09-05T17:13:00.000   \n",
       "..        ...                 ...                      ...   \n",
       "974   A823674 2021-08-13 11:11:00  2021-08-13T11:11:00.000   \n",
       "976   A840570 2021-08-12 19:01:00  2021-08-12T19:01:00.000   \n",
       "981   A839838 2021-08-12 18:39:00  2021-08-12T18:39:00.000   \n",
       "982   A837241 2021-08-12 17:27:00  2021-08-12T17:27:00.000   \n",
       "987   A839550 2021-08-12 16:21:00  2021-08-12T16:21:00.000   \n",
       "\n",
       "               date_of_birth outcome_type outcome_subtype animal_type  \\\n",
       "5    2021-04-25T00:00:00.000     Adoption             NaN         Cat   \n",
       "7    2021-05-05T00:00:00.000     Adoption             NaN         Cat   \n",
       "8    2021-05-02T00:00:00.000     Adoption             NaN         Cat   \n",
       "9    2021-05-02T00:00:00.000     Adoption             NaN         Cat   \n",
       "11   2013-09-05T00:00:00.000     Adoption             NaN         Cat   \n",
       "..                       ...          ...             ...         ...   \n",
       "974  2020-08-18T00:00:00.000     Adoption          Foster         Cat   \n",
       "976  2021-05-10T00:00:00.000     Adoption             NaN         Cat   \n",
       "981  2021-06-06T00:00:00.000     Adoption             NaN         Cat   \n",
       "982  2021-05-17T00:00:00.000     Adoption          Foster         Cat   \n",
       "987  2021-05-08T00:00:00.000     Adoption             NaN         Cat   \n",
       "\n",
       "    sex_upon_outcome age_upon_outcome                   breed         color  \\\n",
       "5      Neutered Male         4 months      Domestic Shorthair   Brown Tabby   \n",
       "7      Spayed Female         4 months  Domestic Shorthair Mix        Tortie   \n",
       "8      Spayed Female         4 months  Domestic Shorthair Mix        Torbie   \n",
       "9      Spayed Female         4 months  Domestic Shorthair Mix        Tortie   \n",
       "11     Neutered Male          8 years       Domestic Longhair          Blue   \n",
       "..               ...              ...                     ...           ...   \n",
       "974    Neutered Male        11 months      Domestic Shorthair   Black/White   \n",
       "976    Spayed Female         3 months      Domestic Shorthair  Orange Tabby   \n",
       "981    Spayed Female         2 months    Domestic Medium Hair   Brown Tabby   \n",
       "982    Spayed Female         2 months      Domestic Shorthair    Lynx Point   \n",
       "987    Spayed Female         3 months  Domestic Shorthair Mix        Calico   \n",
       "\n",
       "            name  \n",
       "5       *Charlie  \n",
       "7    Tina Turner  \n",
       "8         Papaya  \n",
       "9          Mango  \n",
       "11         Camus  \n",
       "..           ...  \n",
       "974       *River  \n",
       "976        *Neko  \n",
       "981      A839838  \n",
       "982      A837241  \n",
       "987      A839550  \n",
       "\n",
       "[341 rows x 12 columns]"
      ]
     },
     "execution_count": 17,
     "metadata": {},
     "output_type": "execute_result"
    }
   ],
   "source": [
    "# We can then get a specific group, such as cats that were adopted\n",
    "animal_outcome.get_group(('Cat', 'Adoption'))"
   ]
  },
  {
   "cell_type": "markdown",
   "metadata": {
    "heading_collapsed": true,
    "hidden": true
   },
   "source": [
    "## Aggregating"
   ]
  },
  {
   "cell_type": "markdown",
   "metadata": {
    "hidden": true
   },
   "source": [
    "Once again, as we will see in SQL, groupby objects are intended to be used with aggregation. In SQL, we will see that our queries that include GROUP BY require aggregation performed on columns.\n",
    "\n",
    "We can use `.sum()`, `.mean()`, `.count()`, `.max()`, `.min()`, etc. Find a list of common aggregations [here](https://pandas.pydata.org/pandas-docs/stable/user_guide/groupby.html)."
   ]
  },
  {
   "cell_type": "code",
   "execution_count": 20,
   "metadata": {
    "hidden": true,
    "scrolled": true
   },
   "outputs": [
    {
     "data": {
      "text/html": [
       "<div>\n",
       "<style scoped>\n",
       "    .dataframe tbody tr th:only-of-type {\n",
       "        vertical-align: middle;\n",
       "    }\n",
       "\n",
       "    .dataframe tbody tr th {\n",
       "        vertical-align: top;\n",
       "    }\n",
       "\n",
       "    .dataframe thead th {\n",
       "        text-align: right;\n",
       "    }\n",
       "</style>\n",
       "<table border=\"1\" class=\"dataframe\">\n",
       "  <thead>\n",
       "    <tr style=\"text-align: right;\">\n",
       "      <th></th>\n",
       "      <th>animal_id</th>\n",
       "      <th>datetime</th>\n",
       "      <th>monthyear</th>\n",
       "      <th>date_of_birth</th>\n",
       "      <th>outcome_type</th>\n",
       "      <th>outcome_subtype</th>\n",
       "      <th>sex_upon_outcome</th>\n",
       "      <th>age_upon_outcome</th>\n",
       "      <th>breed</th>\n",
       "      <th>color</th>\n",
       "      <th>name</th>\n",
       "    </tr>\n",
       "    <tr>\n",
       "      <th>animal_type</th>\n",
       "      <th></th>\n",
       "      <th></th>\n",
       "      <th></th>\n",
       "      <th></th>\n",
       "      <th></th>\n",
       "      <th></th>\n",
       "      <th></th>\n",
       "      <th></th>\n",
       "      <th></th>\n",
       "      <th></th>\n",
       "      <th></th>\n",
       "    </tr>\n",
       "  </thead>\n",
       "  <tbody>\n",
       "    <tr>\n",
       "      <th>Bird</th>\n",
       "      <td>2</td>\n",
       "      <td>2</td>\n",
       "      <td>2</td>\n",
       "      <td>2</td>\n",
       "      <td>2</td>\n",
       "      <td>2</td>\n",
       "      <td>2</td>\n",
       "      <td>2</td>\n",
       "      <td>2</td>\n",
       "      <td>2</td>\n",
       "      <td>1</td>\n",
       "    </tr>\n",
       "    <tr>\n",
       "      <th>Cat</th>\n",
       "      <td>491</td>\n",
       "      <td>491</td>\n",
       "      <td>491</td>\n",
       "      <td>491</td>\n",
       "      <td>491</td>\n",
       "      <td>220</td>\n",
       "      <td>491</td>\n",
       "      <td>491</td>\n",
       "      <td>491</td>\n",
       "      <td>491</td>\n",
       "      <td>430</td>\n",
       "    </tr>\n",
       "    <tr>\n",
       "      <th>Dog</th>\n",
       "      <td>469</td>\n",
       "      <td>469</td>\n",
       "      <td>469</td>\n",
       "      <td>469</td>\n",
       "      <td>468</td>\n",
       "      <td>141</td>\n",
       "      <td>469</td>\n",
       "      <td>469</td>\n",
       "      <td>469</td>\n",
       "      <td>469</td>\n",
       "      <td>452</td>\n",
       "    </tr>\n",
       "    <tr>\n",
       "      <th>Other</th>\n",
       "      <td>38</td>\n",
       "      <td>38</td>\n",
       "      <td>38</td>\n",
       "      <td>38</td>\n",
       "      <td>38</td>\n",
       "      <td>23</td>\n",
       "      <td>38</td>\n",
       "      <td>38</td>\n",
       "      <td>38</td>\n",
       "      <td>38</td>\n",
       "      <td>19</td>\n",
       "    </tr>\n",
       "  </tbody>\n",
       "</table>\n",
       "</div>"
      ],
      "text/plain": [
       "             animal_id  datetime  monthyear  date_of_birth  outcome_type  \\\n",
       "animal_type                                                                \n",
       "Bird                 2         2          2              2             2   \n",
       "Cat                491       491        491            491           491   \n",
       "Dog                469       469        469            469           468   \n",
       "Other               38        38         38             38            38   \n",
       "\n",
       "             outcome_subtype  sex_upon_outcome  age_upon_outcome  breed  \\\n",
       "animal_type                                                               \n",
       "Bird                       2                 2                 2      2   \n",
       "Cat                      220               491               491    491   \n",
       "Dog                      141               469               469    469   \n",
       "Other                     23                38                38     38   \n",
       "\n",
       "             color  name  \n",
       "animal_type               \n",
       "Bird             2     1  \n",
       "Cat            491   430  \n",
       "Dog            469   452  \n",
       "Other           38    19  "
      ]
     },
     "execution_count": 20,
     "metadata": {},
     "output_type": "execute_result"
    }
   ],
   "source": [
    "animals.groupby('animal_type').count()"
   ]
  },
  {
   "cell_type": "markdown",
   "metadata": {
    "heading_collapsed": true,
    "hidden": true
   },
   "source": [
    "## Exercise"
   ]
  },
  {
   "cell_type": "markdown",
   "metadata": {
    "hidden": true
   },
   "source": [
    "Use `.groupby()` to find the most recently born of each (main) animal type."
   ]
  },
  {
   "cell_type": "code",
   "execution_count": 22,
   "metadata": {
    "hidden": true,
    "scrolled": true
   },
   "outputs": [
    {
     "data": {
      "text/plain": [
       "animal_type\n",
       "Bird     2020-08-22T00:00:00.000\n",
       "Cat      2021-09-01T00:00:00.000\n",
       "Dog      2021-08-21T00:00:00.000\n",
       "Other    2021-08-03T00:00:00.000\n",
       "Name: date_of_birth, dtype: object"
      ]
     },
     "execution_count": 22,
     "metadata": {},
     "output_type": "execute_result"
    }
   ],
   "source": [
    "animals.groupby('animal_type')['date_of_birth'].max()"
   ]
  },
  {
   "cell_type": "code",
   "execution_count": 24,
   "metadata": {},
   "outputs": [
    {
     "data": {
      "text/html": [
       "<div>\n",
       "<style scoped>\n",
       "    .dataframe tbody tr th:only-of-type {\n",
       "        vertical-align: middle;\n",
       "    }\n",
       "\n",
       "    .dataframe tbody tr th {\n",
       "        vertical-align: top;\n",
       "    }\n",
       "\n",
       "    .dataframe thead th {\n",
       "        text-align: right;\n",
       "    }\n",
       "</style>\n",
       "<table border=\"1\" class=\"dataframe\">\n",
       "  <thead>\n",
       "    <tr style=\"text-align: right;\">\n",
       "      <th></th>\n",
       "      <th>animal_id</th>\n",
       "      <th>datetime</th>\n",
       "      <th>monthyear</th>\n",
       "      <th>date_of_birth</th>\n",
       "      <th>outcome_type</th>\n",
       "      <th>outcome_subtype</th>\n",
       "      <th>animal_type</th>\n",
       "      <th>sex_upon_outcome</th>\n",
       "      <th>age_upon_outcome</th>\n",
       "      <th>breed</th>\n",
       "      <th>color</th>\n",
       "      <th>name</th>\n",
       "    </tr>\n",
       "  </thead>\n",
       "  <tbody>\n",
       "    <tr>\n",
       "      <th>593</th>\n",
       "      <td>A841169</td>\n",
       "      <td>2021-08-22 15:36:00</td>\n",
       "      <td>2021-08-22T15:36:00.000</td>\n",
       "      <td>2020-08-22T00:00:00.000</td>\n",
       "      <td>Euthanasia</td>\n",
       "      <td>Suffering</td>\n",
       "      <td>Bird</td>\n",
       "      <td>Unknown</td>\n",
       "      <td>1 year</td>\n",
       "      <td>Parakeet</td>\n",
       "      <td>Blue</td>\n",
       "      <td>NaN</td>\n",
       "    </tr>\n",
       "  </tbody>\n",
       "</table>\n",
       "</div>"
      ],
      "text/plain": [
       "    animal_id            datetime                monthyear  \\\n",
       "593   A841169 2021-08-22 15:36:00  2021-08-22T15:36:00.000   \n",
       "\n",
       "               date_of_birth outcome_type outcome_subtype animal_type  \\\n",
       "593  2020-08-22T00:00:00.000   Euthanasia       Suffering        Bird   \n",
       "\n",
       "    sex_upon_outcome age_upon_outcome     breed color name  \n",
       "593          Unknown           1 year  Parakeet  Blue  NaN  "
      ]
     },
     "execution_count": 24,
     "metadata": {},
     "output_type": "execute_result"
    }
   ],
   "source": [
    "animals[(animals['animal_type'] == 'Bird') & (animals['date_of_birth'] == '2020-08-22T00:00:00.000')]"
   ]
  },
  {
   "cell_type": "markdown",
   "metadata": {
    "hidden": true
   },
   "source": [
    "<details>\n",
    "    <summary>Answer</summary>\n",
    "\n",
    "```python\n",
    "animals.groupby('animal_type')['date_of_birth'].max()\n",
    "```\n",
    "</details>"
   ]
  },
  {
   "cell_type": "markdown",
   "metadata": {
    "heading_collapsed": true
   },
   "source": [
    "# Pivoting a DataFrame"
   ]
  },
  {
   "cell_type": "markdown",
   "metadata": {
    "heading_collapsed": true,
    "hidden": true
   },
   "source": [
    "## `.pivot_table()`"
   ]
  },
  {
   "cell_type": "markdown",
   "metadata": {
    "hidden": true
   },
   "source": [
    "Those of you familiar with Excel have probably used Pivot Tables. Pandas has a similar functionality.\n",
    "\n",
    "Grouping by two different columns can be very helpful."
   ]
  },
  {
   "cell_type": "code",
   "execution_count": 25,
   "metadata": {
    "hidden": true
   },
   "outputs": [
    {
     "data": {
      "text/html": [
       "<div>\n",
       "<style scoped>\n",
       "    .dataframe tbody tr th:only-of-type {\n",
       "        vertical-align: middle;\n",
       "    }\n",
       "\n",
       "    .dataframe tbody tr th {\n",
       "        vertical-align: top;\n",
       "    }\n",
       "\n",
       "    .dataframe thead th {\n",
       "        text-align: right;\n",
       "    }\n",
       "</style>\n",
       "<table border=\"1\" class=\"dataframe\">\n",
       "  <thead>\n",
       "    <tr style=\"text-align: right;\">\n",
       "      <th></th>\n",
       "      <th></th>\n",
       "      <th>animal_id</th>\n",
       "      <th>datetime</th>\n",
       "      <th>monthyear</th>\n",
       "      <th>date_of_birth</th>\n",
       "      <th>outcome_subtype</th>\n",
       "      <th>animal_type</th>\n",
       "      <th>age_upon_outcome</th>\n",
       "      <th>breed</th>\n",
       "      <th>color</th>\n",
       "      <th>name</th>\n",
       "    </tr>\n",
       "    <tr>\n",
       "      <th>outcome_type</th>\n",
       "      <th>sex_upon_outcome</th>\n",
       "      <th></th>\n",
       "      <th></th>\n",
       "      <th></th>\n",
       "      <th></th>\n",
       "      <th></th>\n",
       "      <th></th>\n",
       "      <th></th>\n",
       "      <th></th>\n",
       "      <th></th>\n",
       "      <th></th>\n",
       "    </tr>\n",
       "  </thead>\n",
       "  <tbody>\n",
       "    <tr>\n",
       "      <th rowspan=\"4\" valign=\"top\">Adoption</th>\n",
       "      <th>Intact Female</th>\n",
       "      <td>18</td>\n",
       "      <td>18</td>\n",
       "      <td>18</td>\n",
       "      <td>18</td>\n",
       "      <td>18</td>\n",
       "      <td>18</td>\n",
       "      <td>18</td>\n",
       "      <td>18</td>\n",
       "      <td>18</td>\n",
       "      <td>18</td>\n",
       "    </tr>\n",
       "    <tr>\n",
       "      <th>Intact Male</th>\n",
       "      <td>7</td>\n",
       "      <td>7</td>\n",
       "      <td>7</td>\n",
       "      <td>7</td>\n",
       "      <td>7</td>\n",
       "      <td>7</td>\n",
       "      <td>7</td>\n",
       "      <td>7</td>\n",
       "      <td>7</td>\n",
       "      <td>7</td>\n",
       "    </tr>\n",
       "    <tr>\n",
       "      <th>Neutered Male</th>\n",
       "      <td>324</td>\n",
       "      <td>324</td>\n",
       "      <td>324</td>\n",
       "      <td>324</td>\n",
       "      <td>324</td>\n",
       "      <td>324</td>\n",
       "      <td>324</td>\n",
       "      <td>324</td>\n",
       "      <td>324</td>\n",
       "      <td>324</td>\n",
       "    </tr>\n",
       "    <tr>\n",
       "      <th>Spayed Female</th>\n",
       "      <td>306</td>\n",
       "      <td>306</td>\n",
       "      <td>306</td>\n",
       "      <td>306</td>\n",
       "      <td>306</td>\n",
       "      <td>306</td>\n",
       "      <td>306</td>\n",
       "      <td>306</td>\n",
       "      <td>306</td>\n",
       "      <td>306</td>\n",
       "    </tr>\n",
       "    <tr>\n",
       "      <th rowspan=\"3\" valign=\"top\">Died</th>\n",
       "      <th>Intact Female</th>\n",
       "      <td>2</td>\n",
       "      <td>2</td>\n",
       "      <td>2</td>\n",
       "      <td>2</td>\n",
       "      <td>2</td>\n",
       "      <td>2</td>\n",
       "      <td>2</td>\n",
       "      <td>2</td>\n",
       "      <td>2</td>\n",
       "      <td>2</td>\n",
       "    </tr>\n",
       "    <tr>\n",
       "      <th>Intact Male</th>\n",
       "      <td>3</td>\n",
       "      <td>3</td>\n",
       "      <td>3</td>\n",
       "      <td>3</td>\n",
       "      <td>3</td>\n",
       "      <td>3</td>\n",
       "      <td>3</td>\n",
       "      <td>3</td>\n",
       "      <td>3</td>\n",
       "      <td>3</td>\n",
       "    </tr>\n",
       "    <tr>\n",
       "      <th>Spayed Female</th>\n",
       "      <td>1</td>\n",
       "      <td>1</td>\n",
       "      <td>1</td>\n",
       "      <td>1</td>\n",
       "      <td>1</td>\n",
       "      <td>1</td>\n",
       "      <td>1</td>\n",
       "      <td>1</td>\n",
       "      <td>1</td>\n",
       "      <td>1</td>\n",
       "    </tr>\n",
       "    <tr>\n",
       "      <th>Disposal</th>\n",
       "      <th>Unknown</th>\n",
       "      <td>3</td>\n",
       "      <td>3</td>\n",
       "      <td>3</td>\n",
       "      <td>3</td>\n",
       "      <td>3</td>\n",
       "      <td>3</td>\n",
       "      <td>3</td>\n",
       "      <td>3</td>\n",
       "      <td>3</td>\n",
       "      <td>3</td>\n",
       "    </tr>\n",
       "    <tr>\n",
       "      <th rowspan=\"5\" valign=\"top\">Euthanasia</th>\n",
       "      <th>Intact Female</th>\n",
       "      <td>4</td>\n",
       "      <td>4</td>\n",
       "      <td>4</td>\n",
       "      <td>4</td>\n",
       "      <td>4</td>\n",
       "      <td>4</td>\n",
       "      <td>4</td>\n",
       "      <td>4</td>\n",
       "      <td>4</td>\n",
       "      <td>4</td>\n",
       "    </tr>\n",
       "    <tr>\n",
       "      <th>Intact Male</th>\n",
       "      <td>4</td>\n",
       "      <td>4</td>\n",
       "      <td>4</td>\n",
       "      <td>4</td>\n",
       "      <td>4</td>\n",
       "      <td>4</td>\n",
       "      <td>4</td>\n",
       "      <td>4</td>\n",
       "      <td>4</td>\n",
       "      <td>4</td>\n",
       "    </tr>\n",
       "    <tr>\n",
       "      <th>Neutered Male</th>\n",
       "      <td>4</td>\n",
       "      <td>4</td>\n",
       "      <td>4</td>\n",
       "      <td>4</td>\n",
       "      <td>4</td>\n",
       "      <td>4</td>\n",
       "      <td>4</td>\n",
       "      <td>4</td>\n",
       "      <td>4</td>\n",
       "      <td>4</td>\n",
       "    </tr>\n",
       "    <tr>\n",
       "      <th>Spayed Female</th>\n",
       "      <td>1</td>\n",
       "      <td>1</td>\n",
       "      <td>1</td>\n",
       "      <td>1</td>\n",
       "      <td>1</td>\n",
       "      <td>1</td>\n",
       "      <td>1</td>\n",
       "      <td>1</td>\n",
       "      <td>1</td>\n",
       "      <td>1</td>\n",
       "    </tr>\n",
       "    <tr>\n",
       "      <th>Unknown</th>\n",
       "      <td>19</td>\n",
       "      <td>19</td>\n",
       "      <td>19</td>\n",
       "      <td>19</td>\n",
       "      <td>19</td>\n",
       "      <td>19</td>\n",
       "      <td>19</td>\n",
       "      <td>19</td>\n",
       "      <td>19</td>\n",
       "      <td>19</td>\n",
       "    </tr>\n",
       "    <tr>\n",
       "      <th rowspan=\"5\" valign=\"top\">Return to Owner</th>\n",
       "      <th>Intact Female</th>\n",
       "      <td>19</td>\n",
       "      <td>19</td>\n",
       "      <td>19</td>\n",
       "      <td>19</td>\n",
       "      <td>19</td>\n",
       "      <td>19</td>\n",
       "      <td>19</td>\n",
       "      <td>19</td>\n",
       "      <td>19</td>\n",
       "      <td>19</td>\n",
       "    </tr>\n",
       "    <tr>\n",
       "      <th>Intact Male</th>\n",
       "      <td>23</td>\n",
       "      <td>23</td>\n",
       "      <td>23</td>\n",
       "      <td>23</td>\n",
       "      <td>23</td>\n",
       "      <td>23</td>\n",
       "      <td>23</td>\n",
       "      <td>23</td>\n",
       "      <td>23</td>\n",
       "      <td>23</td>\n",
       "    </tr>\n",
       "    <tr>\n",
       "      <th>Neutered Male</th>\n",
       "      <td>17</td>\n",
       "      <td>17</td>\n",
       "      <td>17</td>\n",
       "      <td>17</td>\n",
       "      <td>17</td>\n",
       "      <td>17</td>\n",
       "      <td>17</td>\n",
       "      <td>17</td>\n",
       "      <td>17</td>\n",
       "      <td>17</td>\n",
       "    </tr>\n",
       "    <tr>\n",
       "      <th>Spayed Female</th>\n",
       "      <td>15</td>\n",
       "      <td>15</td>\n",
       "      <td>15</td>\n",
       "      <td>15</td>\n",
       "      <td>15</td>\n",
       "      <td>15</td>\n",
       "      <td>15</td>\n",
       "      <td>15</td>\n",
       "      <td>15</td>\n",
       "      <td>15</td>\n",
       "    </tr>\n",
       "    <tr>\n",
       "      <th>Unknown</th>\n",
       "      <td>2</td>\n",
       "      <td>2</td>\n",
       "      <td>2</td>\n",
       "      <td>2</td>\n",
       "      <td>2</td>\n",
       "      <td>2</td>\n",
       "      <td>2</td>\n",
       "      <td>2</td>\n",
       "      <td>2</td>\n",
       "      <td>2</td>\n",
       "    </tr>\n",
       "    <tr>\n",
       "      <th rowspan=\"2\" valign=\"top\">Rto-Adopt</th>\n",
       "      <th>Intact Male</th>\n",
       "      <td>1</td>\n",
       "      <td>1</td>\n",
       "      <td>1</td>\n",
       "      <td>1</td>\n",
       "      <td>1</td>\n",
       "      <td>1</td>\n",
       "      <td>1</td>\n",
       "      <td>1</td>\n",
       "      <td>1</td>\n",
       "      <td>1</td>\n",
       "    </tr>\n",
       "    <tr>\n",
       "      <th>Neutered Male</th>\n",
       "      <td>9</td>\n",
       "      <td>9</td>\n",
       "      <td>9</td>\n",
       "      <td>9</td>\n",
       "      <td>9</td>\n",
       "      <td>9</td>\n",
       "      <td>9</td>\n",
       "      <td>9</td>\n",
       "      <td>9</td>\n",
       "      <td>9</td>\n",
       "    </tr>\n",
       "    <tr>\n",
       "      <th rowspan=\"5\" valign=\"top\">Transfer</th>\n",
       "      <th>Intact Female</th>\n",
       "      <td>86</td>\n",
       "      <td>86</td>\n",
       "      <td>86</td>\n",
       "      <td>86</td>\n",
       "      <td>86</td>\n",
       "      <td>86</td>\n",
       "      <td>86</td>\n",
       "      <td>86</td>\n",
       "      <td>86</td>\n",
       "      <td>86</td>\n",
       "    </tr>\n",
       "    <tr>\n",
       "      <th>Intact Male</th>\n",
       "      <td>71</td>\n",
       "      <td>71</td>\n",
       "      <td>71</td>\n",
       "      <td>71</td>\n",
       "      <td>71</td>\n",
       "      <td>71</td>\n",
       "      <td>71</td>\n",
       "      <td>71</td>\n",
       "      <td>71</td>\n",
       "      <td>71</td>\n",
       "    </tr>\n",
       "    <tr>\n",
       "      <th>Neutered Male</th>\n",
       "      <td>22</td>\n",
       "      <td>22</td>\n",
       "      <td>22</td>\n",
       "      <td>22</td>\n",
       "      <td>22</td>\n",
       "      <td>22</td>\n",
       "      <td>22</td>\n",
       "      <td>22</td>\n",
       "      <td>22</td>\n",
       "      <td>22</td>\n",
       "    </tr>\n",
       "    <tr>\n",
       "      <th>Spayed Female</th>\n",
       "      <td>18</td>\n",
       "      <td>18</td>\n",
       "      <td>18</td>\n",
       "      <td>18</td>\n",
       "      <td>18</td>\n",
       "      <td>18</td>\n",
       "      <td>18</td>\n",
       "      <td>18</td>\n",
       "      <td>18</td>\n",
       "      <td>18</td>\n",
       "    </tr>\n",
       "    <tr>\n",
       "      <th>Unknown</th>\n",
       "      <td>20</td>\n",
       "      <td>20</td>\n",
       "      <td>20</td>\n",
       "      <td>20</td>\n",
       "      <td>20</td>\n",
       "      <td>20</td>\n",
       "      <td>20</td>\n",
       "      <td>20</td>\n",
       "      <td>20</td>\n",
       "      <td>20</td>\n",
       "    </tr>\n",
       "  </tbody>\n",
       "</table>\n",
       "</div>"
      ],
      "text/plain": [
       "                                  animal_id  datetime  monthyear  \\\n",
       "outcome_type    sex_upon_outcome                                   \n",
       "Adoption        Intact Female            18        18         18   \n",
       "                Intact Male               7         7          7   \n",
       "                Neutered Male           324       324        324   \n",
       "                Spayed Female           306       306        306   \n",
       "Died            Intact Female             2         2          2   \n",
       "                Intact Male               3         3          3   \n",
       "                Spayed Female             1         1          1   \n",
       "Disposal        Unknown                   3         3          3   \n",
       "Euthanasia      Intact Female             4         4          4   \n",
       "                Intact Male               4         4          4   \n",
       "                Neutered Male             4         4          4   \n",
       "                Spayed Female             1         1          1   \n",
       "                Unknown                  19        19         19   \n",
       "Return to Owner Intact Female            19        19         19   \n",
       "                Intact Male              23        23         23   \n",
       "                Neutered Male            17        17         17   \n",
       "                Spayed Female            15        15         15   \n",
       "                Unknown                   2         2          2   \n",
       "Rto-Adopt       Intact Male               1         1          1   \n",
       "                Neutered Male             9         9          9   \n",
       "Transfer        Intact Female            86        86         86   \n",
       "                Intact Male              71        71         71   \n",
       "                Neutered Male            22        22         22   \n",
       "                Spayed Female            18        18         18   \n",
       "                Unknown                  20        20         20   \n",
       "\n",
       "                                  date_of_birth  outcome_subtype  animal_type  \\\n",
       "outcome_type    sex_upon_outcome                                                \n",
       "Adoption        Intact Female                18               18           18   \n",
       "                Intact Male                   7                7            7   \n",
       "                Neutered Male               324              324          324   \n",
       "                Spayed Female               306              306          306   \n",
       "Died            Intact Female                 2                2            2   \n",
       "                Intact Male                   3                3            3   \n",
       "                Spayed Female                 1                1            1   \n",
       "Disposal        Unknown                       3                3            3   \n",
       "Euthanasia      Intact Female                 4                4            4   \n",
       "                Intact Male                   4                4            4   \n",
       "                Neutered Male                 4                4            4   \n",
       "                Spayed Female                 1                1            1   \n",
       "                Unknown                      19               19           19   \n",
       "Return to Owner Intact Female                19               19           19   \n",
       "                Intact Male                  23               23           23   \n",
       "                Neutered Male                17               17           17   \n",
       "                Spayed Female                15               15           15   \n",
       "                Unknown                       2                2            2   \n",
       "Rto-Adopt       Intact Male                   1                1            1   \n",
       "                Neutered Male                 9                9            9   \n",
       "Transfer        Intact Female                86               86           86   \n",
       "                Intact Male                  71               71           71   \n",
       "                Neutered Male                22               22           22   \n",
       "                Spayed Female                18               18           18   \n",
       "                Unknown                      20               20           20   \n",
       "\n",
       "                                  age_upon_outcome  breed  color  name  \n",
       "outcome_type    sex_upon_outcome                                        \n",
       "Adoption        Intact Female                   18     18     18    18  \n",
       "                Intact Male                      7      7      7     7  \n",
       "                Neutered Male                  324    324    324   324  \n",
       "                Spayed Female                  306    306    306   306  \n",
       "Died            Intact Female                    2      2      2     2  \n",
       "                Intact Male                      3      3      3     3  \n",
       "                Spayed Female                    1      1      1     1  \n",
       "Disposal        Unknown                          3      3      3     3  \n",
       "Euthanasia      Intact Female                    4      4      4     4  \n",
       "                Intact Male                      4      4      4     4  \n",
       "                Neutered Male                    4      4      4     4  \n",
       "                Spayed Female                    1      1      1     1  \n",
       "                Unknown                         19     19     19    19  \n",
       "Return to Owner Intact Female                   19     19     19    19  \n",
       "                Intact Male                     23     23     23    23  \n",
       "                Neutered Male                   17     17     17    17  \n",
       "                Spayed Female                   15     15     15    15  \n",
       "                Unknown                          2      2      2     2  \n",
       "Rto-Adopt       Intact Male                      1      1      1     1  \n",
       "                Neutered Male                    9      9      9     9  \n",
       "Transfer        Intact Female                   86     86     86    86  \n",
       "                Intact Male                     71     71     71    71  \n",
       "                Neutered Male                   22     22     22    22  \n",
       "                Spayed Female                   18     18     18    18  \n",
       "                Unknown                         20     20     20    20  "
      ]
     },
     "execution_count": 25,
     "metadata": {},
     "output_type": "execute_result"
    }
   ],
   "source": [
    "animals.groupby(by=['outcome_type', 'sex_upon_outcome']).agg(len)"
   ]
  },
  {
   "cell_type": "markdown",
   "metadata": {
    "hidden": true
   },
   "source": [
    "But it has the unsavory side effect of creating a two-level index. This can be a good time to use `.pivot_table()`.\n",
    "\n",
    "(There is also a `.pivot()`. For the somewhat subtle differences, see [here](https://stackoverflow.com/questions/30960338/pandas-difference-between-pivot-and-pivot-table-why-is-only-pivot-table-workin).)"
   ]
  },
  {
   "cell_type": "markdown",
   "metadata": {
    "heading_collapsed": true,
    "hidden": true
   },
   "source": [
    "### Example"
   ]
  },
  {
   "cell_type": "code",
   "execution_count": 26,
   "metadata": {
    "hidden": true
   },
   "outputs": [
    {
     "data": {
      "text/html": [
       "<div>\n",
       "<style scoped>\n",
       "    .dataframe tbody tr th:only-of-type {\n",
       "        vertical-align: middle;\n",
       "    }\n",
       "\n",
       "    .dataframe tbody tr th {\n",
       "        vertical-align: top;\n",
       "    }\n",
       "\n",
       "    .dataframe thead th {\n",
       "        text-align: right;\n",
       "    }\n",
       "</style>\n",
       "<table border=\"1\" class=\"dataframe\">\n",
       "  <thead>\n",
       "    <tr style=\"text-align: right;\">\n",
       "      <th></th>\n",
       "      <th>sex</th>\n",
       "      <th>num_puppies</th>\n",
       "      <th>breed</th>\n",
       "      <th>past_owners</th>\n",
       "      <th>family_members</th>\n",
       "    </tr>\n",
       "  </thead>\n",
       "  <tbody>\n",
       "    <tr>\n",
       "      <th>0</th>\n",
       "      <td>male</td>\n",
       "      <td>one</td>\n",
       "      <td>terrier</td>\n",
       "      <td>1</td>\n",
       "      <td>2</td>\n",
       "    </tr>\n",
       "    <tr>\n",
       "      <th>1</th>\n",
       "      <td>male</td>\n",
       "      <td>one</td>\n",
       "      <td>retriever</td>\n",
       "      <td>2</td>\n",
       "      <td>4</td>\n",
       "    </tr>\n",
       "    <tr>\n",
       "      <th>2</th>\n",
       "      <td>male</td>\n",
       "      <td>one</td>\n",
       "      <td>retriever</td>\n",
       "      <td>2</td>\n",
       "      <td>5</td>\n",
       "    </tr>\n",
       "    <tr>\n",
       "      <th>3</th>\n",
       "      <td>male</td>\n",
       "      <td>two</td>\n",
       "      <td>terrier</td>\n",
       "      <td>3</td>\n",
       "      <td>5</td>\n",
       "    </tr>\n",
       "    <tr>\n",
       "      <th>4</th>\n",
       "      <td>male</td>\n",
       "      <td>two</td>\n",
       "      <td>terrier</td>\n",
       "      <td>3</td>\n",
       "      <td>6</td>\n",
       "    </tr>\n",
       "    <tr>\n",
       "      <th>5</th>\n",
       "      <td>female</td>\n",
       "      <td>one</td>\n",
       "      <td>retriever</td>\n",
       "      <td>4</td>\n",
       "      <td>6</td>\n",
       "    </tr>\n",
       "    <tr>\n",
       "      <th>6</th>\n",
       "      <td>female</td>\n",
       "      <td>one</td>\n",
       "      <td>terrier</td>\n",
       "      <td>5</td>\n",
       "      <td>8</td>\n",
       "    </tr>\n",
       "    <tr>\n",
       "      <th>7</th>\n",
       "      <td>female</td>\n",
       "      <td>two</td>\n",
       "      <td>terrier</td>\n",
       "      <td>6</td>\n",
       "      <td>9</td>\n",
       "    </tr>\n",
       "    <tr>\n",
       "      <th>8</th>\n",
       "      <td>female</td>\n",
       "      <td>two</td>\n",
       "      <td>retriever</td>\n",
       "      <td>7</td>\n",
       "      <td>9</td>\n",
       "    </tr>\n",
       "  </tbody>\n",
       "</table>\n",
       "</div>"
      ],
      "text/plain": [
       "      sex num_puppies      breed  past_owners  family_members\n",
       "0    male         one    terrier            1               2\n",
       "1    male         one  retriever            2               4\n",
       "2    male         one  retriever            2               5\n",
       "3    male         two    terrier            3               5\n",
       "4    male         two    terrier            3               6\n",
       "5  female         one  retriever            4               6\n",
       "6  female         one    terrier            5               8\n",
       "7  female         two    terrier            6               9\n",
       "8  female         two  retriever            7               9"
      ]
     },
     "execution_count": 26,
     "metadata": {},
     "output_type": "execute_result"
    }
   ],
   "source": [
    "df = pd.DataFrame({\"sex\": [\"male\", \"male\", \"male\", \"male\", \"male\",\n",
    "                          \"female\", \"female\", \"female\", \"female\"],\n",
    "                    \"num_puppies\": [\"one\", \"one\", \"one\", \"two\", \"two\",\n",
    "                          \"one\", \"one\", \"two\", \"two\"],\n",
    "                    \"breed\": [\"terrier\", \"retriever\", \"retriever\", \"terrier\",\n",
    "                          \"terrier\", \"retriever\", \"terrier\", \"terrier\",\n",
    "                          \"retriever\"],\n",
    "                    \"past_owners\": [1, 2, 2, 3, 3, 4, 5, 6, 7],\n",
    "                    \"family_members\": [2, 4, 5, 5, 6, 6, 8, 9, 9]})\n",
    "df"
   ]
  },
  {
   "cell_type": "code",
   "execution_count": 27,
   "metadata": {
    "hidden": true
   },
   "outputs": [
    {
     "data": {
      "text/html": [
       "<div>\n",
       "<style scoped>\n",
       "    .dataframe tbody tr th:only-of-type {\n",
       "        vertical-align: middle;\n",
       "    }\n",
       "\n",
       "    .dataframe tbody tr th {\n",
       "        vertical-align: top;\n",
       "    }\n",
       "\n",
       "    .dataframe thead th {\n",
       "        text-align: right;\n",
       "    }\n",
       "</style>\n",
       "<table border=\"1\" class=\"dataframe\">\n",
       "  <thead>\n",
       "    <tr style=\"text-align: right;\">\n",
       "      <th></th>\n",
       "      <th>breed</th>\n",
       "      <th>retriever</th>\n",
       "      <th>terrier</th>\n",
       "    </tr>\n",
       "    <tr>\n",
       "      <th>sex</th>\n",
       "      <th>num_puppies</th>\n",
       "      <th></th>\n",
       "      <th></th>\n",
       "    </tr>\n",
       "  </thead>\n",
       "  <tbody>\n",
       "    <tr>\n",
       "      <th rowspan=\"2\" valign=\"top\">female</th>\n",
       "      <th>one</th>\n",
       "      <td>4.0</td>\n",
       "      <td>5.0</td>\n",
       "    </tr>\n",
       "    <tr>\n",
       "      <th>two</th>\n",
       "      <td>7.0</td>\n",
       "      <td>6.0</td>\n",
       "    </tr>\n",
       "    <tr>\n",
       "      <th rowspan=\"2\" valign=\"top\">male</th>\n",
       "      <th>one</th>\n",
       "      <td>4.0</td>\n",
       "      <td>1.0</td>\n",
       "    </tr>\n",
       "    <tr>\n",
       "      <th>two</th>\n",
       "      <td>NaN</td>\n",
       "      <td>6.0</td>\n",
       "    </tr>\n",
       "  </tbody>\n",
       "</table>\n",
       "</div>"
      ],
      "text/plain": [
       "breed               retriever  terrier\n",
       "sex    num_puppies                    \n",
       "female one                4.0      5.0\n",
       "       two                7.0      6.0\n",
       "male   one                4.0      1.0\n",
       "       two                NaN      6.0"
      ]
     },
     "execution_count": 27,
     "metadata": {},
     "output_type": "execute_result"
    }
   ],
   "source": [
    "# This first example aggregates values by taking the sum.\n",
    "\n",
    "table = pd.pivot_table(df, values='past_owners', index=['sex', 'num_puppies'],\n",
    "                     columns=['breed'], aggfunc=np.sum)\n",
    "table"
   ]
  },
  {
   "cell_type": "markdown",
   "metadata": {
    "heading_collapsed": true,
    "hidden": true
   },
   "source": [
    "### Back to Austin animals"
   ]
  },
  {
   "cell_type": "code",
   "execution_count": 28,
   "metadata": {
    "hidden": true
   },
   "outputs": [
    {
     "data": {
      "text/html": [
       "<div>\n",
       "<style scoped>\n",
       "    .dataframe tbody tr th:only-of-type {\n",
       "        vertical-align: middle;\n",
       "    }\n",
       "\n",
       "    .dataframe tbody tr th {\n",
       "        vertical-align: top;\n",
       "    }\n",
       "\n",
       "    .dataframe thead tr th {\n",
       "        text-align: left;\n",
       "    }\n",
       "\n",
       "    .dataframe thead tr:last-of-type th {\n",
       "        text-align: right;\n",
       "    }\n",
       "</style>\n",
       "<table border=\"1\" class=\"dataframe\">\n",
       "  <thead>\n",
       "    <tr>\n",
       "      <th></th>\n",
       "      <th colspan=\"5\" halign=\"left\">age_upon_outcome</th>\n",
       "      <th colspan=\"5\" halign=\"left\">animal_id</th>\n",
       "      <th>...</th>\n",
       "      <th colspan=\"5\" halign=\"left\">name</th>\n",
       "      <th colspan=\"5\" halign=\"left\">outcome_subtype</th>\n",
       "    </tr>\n",
       "    <tr>\n",
       "      <th>sex_upon_outcome</th>\n",
       "      <th>Intact Female</th>\n",
       "      <th>Intact Male</th>\n",
       "      <th>Neutered Male</th>\n",
       "      <th>Spayed Female</th>\n",
       "      <th>Unknown</th>\n",
       "      <th>Intact Female</th>\n",
       "      <th>Intact Male</th>\n",
       "      <th>Neutered Male</th>\n",
       "      <th>Spayed Female</th>\n",
       "      <th>Unknown</th>\n",
       "      <th>...</th>\n",
       "      <th>Intact Female</th>\n",
       "      <th>Intact Male</th>\n",
       "      <th>Neutered Male</th>\n",
       "      <th>Spayed Female</th>\n",
       "      <th>Unknown</th>\n",
       "      <th>Intact Female</th>\n",
       "      <th>Intact Male</th>\n",
       "      <th>Neutered Male</th>\n",
       "      <th>Spayed Female</th>\n",
       "      <th>Unknown</th>\n",
       "    </tr>\n",
       "    <tr>\n",
       "      <th>outcome_type</th>\n",
       "      <th></th>\n",
       "      <th></th>\n",
       "      <th></th>\n",
       "      <th></th>\n",
       "      <th></th>\n",
       "      <th></th>\n",
       "      <th></th>\n",
       "      <th></th>\n",
       "      <th></th>\n",
       "      <th></th>\n",
       "      <th></th>\n",
       "      <th></th>\n",
       "      <th></th>\n",
       "      <th></th>\n",
       "      <th></th>\n",
       "      <th></th>\n",
       "      <th></th>\n",
       "      <th></th>\n",
       "      <th></th>\n",
       "      <th></th>\n",
       "      <th></th>\n",
       "    </tr>\n",
       "  </thead>\n",
       "  <tbody>\n",
       "    <tr>\n",
       "      <th>Adoption</th>\n",
       "      <td>18.0</td>\n",
       "      <td>7.0</td>\n",
       "      <td>324.0</td>\n",
       "      <td>306.0</td>\n",
       "      <td>NaN</td>\n",
       "      <td>18.0</td>\n",
       "      <td>7.0</td>\n",
       "      <td>324.0</td>\n",
       "      <td>306.0</td>\n",
       "      <td>NaN</td>\n",
       "      <td>...</td>\n",
       "      <td>18.0</td>\n",
       "      <td>7.0</td>\n",
       "      <td>324.0</td>\n",
       "      <td>306.0</td>\n",
       "      <td>NaN</td>\n",
       "      <td>18.0</td>\n",
       "      <td>7.0</td>\n",
       "      <td>324.0</td>\n",
       "      <td>306.0</td>\n",
       "      <td>NaN</td>\n",
       "    </tr>\n",
       "    <tr>\n",
       "      <th>Died</th>\n",
       "      <td>2.0</td>\n",
       "      <td>3.0</td>\n",
       "      <td>NaN</td>\n",
       "      <td>1.0</td>\n",
       "      <td>NaN</td>\n",
       "      <td>2.0</td>\n",
       "      <td>3.0</td>\n",
       "      <td>NaN</td>\n",
       "      <td>1.0</td>\n",
       "      <td>NaN</td>\n",
       "      <td>...</td>\n",
       "      <td>2.0</td>\n",
       "      <td>3.0</td>\n",
       "      <td>NaN</td>\n",
       "      <td>1.0</td>\n",
       "      <td>NaN</td>\n",
       "      <td>2.0</td>\n",
       "      <td>3.0</td>\n",
       "      <td>NaN</td>\n",
       "      <td>1.0</td>\n",
       "      <td>NaN</td>\n",
       "    </tr>\n",
       "    <tr>\n",
       "      <th>Disposal</th>\n",
       "      <td>NaN</td>\n",
       "      <td>NaN</td>\n",
       "      <td>NaN</td>\n",
       "      <td>NaN</td>\n",
       "      <td>3.0</td>\n",
       "      <td>NaN</td>\n",
       "      <td>NaN</td>\n",
       "      <td>NaN</td>\n",
       "      <td>NaN</td>\n",
       "      <td>3.0</td>\n",
       "      <td>...</td>\n",
       "      <td>NaN</td>\n",
       "      <td>NaN</td>\n",
       "      <td>NaN</td>\n",
       "      <td>NaN</td>\n",
       "      <td>3.0</td>\n",
       "      <td>NaN</td>\n",
       "      <td>NaN</td>\n",
       "      <td>NaN</td>\n",
       "      <td>NaN</td>\n",
       "      <td>3.0</td>\n",
       "    </tr>\n",
       "    <tr>\n",
       "      <th>Euthanasia</th>\n",
       "      <td>4.0</td>\n",
       "      <td>4.0</td>\n",
       "      <td>4.0</td>\n",
       "      <td>1.0</td>\n",
       "      <td>19.0</td>\n",
       "      <td>4.0</td>\n",
       "      <td>4.0</td>\n",
       "      <td>4.0</td>\n",
       "      <td>1.0</td>\n",
       "      <td>19.0</td>\n",
       "      <td>...</td>\n",
       "      <td>4.0</td>\n",
       "      <td>4.0</td>\n",
       "      <td>4.0</td>\n",
       "      <td>1.0</td>\n",
       "      <td>19.0</td>\n",
       "      <td>4.0</td>\n",
       "      <td>4.0</td>\n",
       "      <td>4.0</td>\n",
       "      <td>1.0</td>\n",
       "      <td>19.0</td>\n",
       "    </tr>\n",
       "    <tr>\n",
       "      <th>Return to Owner</th>\n",
       "      <td>19.0</td>\n",
       "      <td>23.0</td>\n",
       "      <td>17.0</td>\n",
       "      <td>15.0</td>\n",
       "      <td>2.0</td>\n",
       "      <td>19.0</td>\n",
       "      <td>23.0</td>\n",
       "      <td>17.0</td>\n",
       "      <td>15.0</td>\n",
       "      <td>2.0</td>\n",
       "      <td>...</td>\n",
       "      <td>19.0</td>\n",
       "      <td>23.0</td>\n",
       "      <td>17.0</td>\n",
       "      <td>15.0</td>\n",
       "      <td>2.0</td>\n",
       "      <td>19.0</td>\n",
       "      <td>23.0</td>\n",
       "      <td>17.0</td>\n",
       "      <td>15.0</td>\n",
       "      <td>2.0</td>\n",
       "    </tr>\n",
       "    <tr>\n",
       "      <th>Rto-Adopt</th>\n",
       "      <td>NaN</td>\n",
       "      <td>1.0</td>\n",
       "      <td>9.0</td>\n",
       "      <td>NaN</td>\n",
       "      <td>NaN</td>\n",
       "      <td>NaN</td>\n",
       "      <td>1.0</td>\n",
       "      <td>9.0</td>\n",
       "      <td>NaN</td>\n",
       "      <td>NaN</td>\n",
       "      <td>...</td>\n",
       "      <td>NaN</td>\n",
       "      <td>1.0</td>\n",
       "      <td>9.0</td>\n",
       "      <td>NaN</td>\n",
       "      <td>NaN</td>\n",
       "      <td>NaN</td>\n",
       "      <td>1.0</td>\n",
       "      <td>9.0</td>\n",
       "      <td>NaN</td>\n",
       "      <td>NaN</td>\n",
       "    </tr>\n",
       "    <tr>\n",
       "      <th>Transfer</th>\n",
       "      <td>86.0</td>\n",
       "      <td>71.0</td>\n",
       "      <td>22.0</td>\n",
       "      <td>18.0</td>\n",
       "      <td>20.0</td>\n",
       "      <td>86.0</td>\n",
       "      <td>71.0</td>\n",
       "      <td>22.0</td>\n",
       "      <td>18.0</td>\n",
       "      <td>20.0</td>\n",
       "      <td>...</td>\n",
       "      <td>86.0</td>\n",
       "      <td>71.0</td>\n",
       "      <td>22.0</td>\n",
       "      <td>18.0</td>\n",
       "      <td>20.0</td>\n",
       "      <td>86.0</td>\n",
       "      <td>71.0</td>\n",
       "      <td>22.0</td>\n",
       "      <td>18.0</td>\n",
       "      <td>20.0</td>\n",
       "    </tr>\n",
       "  </tbody>\n",
       "</table>\n",
       "<p>7 rows × 50 columns</p>\n",
       "</div>"
      ],
      "text/plain": [
       "                 age_upon_outcome                                          \\\n",
       "sex_upon_outcome    Intact Female Intact Male Neutered Male Spayed Female   \n",
       "outcome_type                                                                \n",
       "Adoption                     18.0         7.0         324.0         306.0   \n",
       "Died                          2.0         3.0           NaN           1.0   \n",
       "Disposal                      NaN         NaN           NaN           NaN   \n",
       "Euthanasia                    4.0         4.0           4.0           1.0   \n",
       "Return to Owner              19.0        23.0          17.0          15.0   \n",
       "Rto-Adopt                     NaN         1.0           9.0           NaN   \n",
       "Transfer                     86.0        71.0          22.0          18.0   \n",
       "\n",
       "                             animal_id                            \\\n",
       "sex_upon_outcome Unknown Intact Female Intact Male Neutered Male   \n",
       "outcome_type                                                       \n",
       "Adoption             NaN          18.0         7.0         324.0   \n",
       "Died                 NaN           2.0         3.0           NaN   \n",
       "Disposal             3.0           NaN         NaN           NaN   \n",
       "Euthanasia          19.0           4.0         4.0           4.0   \n",
       "Return to Owner      2.0          19.0        23.0          17.0   \n",
       "Rto-Adopt            NaN           NaN         1.0           9.0   \n",
       "Transfer            20.0          86.0        71.0          22.0   \n",
       "\n",
       "                                        ...          name              \\\n",
       "sex_upon_outcome Spayed Female Unknown  ... Intact Female Intact Male   \n",
       "outcome_type                            ...                             \n",
       "Adoption                 306.0     NaN  ...          18.0         7.0   \n",
       "Died                       1.0     NaN  ...           2.0         3.0   \n",
       "Disposal                   NaN     3.0  ...           NaN         NaN   \n",
       "Euthanasia                 1.0    19.0  ...           4.0         4.0   \n",
       "Return to Owner           15.0     2.0  ...          19.0        23.0   \n",
       "Rto-Adopt                  NaN     NaN  ...           NaN         1.0   \n",
       "Transfer                  18.0    20.0  ...          86.0        71.0   \n",
       "\n",
       "                                                     outcome_subtype  \\\n",
       "sex_upon_outcome Neutered Male Spayed Female Unknown   Intact Female   \n",
       "outcome_type                                                           \n",
       "Adoption                 324.0         306.0     NaN            18.0   \n",
       "Died                       NaN           1.0     NaN             2.0   \n",
       "Disposal                   NaN           NaN     3.0             NaN   \n",
       "Euthanasia                 4.0           1.0    19.0             4.0   \n",
       "Return to Owner           17.0          15.0     2.0            19.0   \n",
       "Rto-Adopt                  9.0           NaN     NaN             NaN   \n",
       "Transfer                  22.0          18.0    20.0            86.0   \n",
       "\n",
       "                                                                  \n",
       "sex_upon_outcome Intact Male Neutered Male Spayed Female Unknown  \n",
       "outcome_type                                                      \n",
       "Adoption                 7.0         324.0         306.0     NaN  \n",
       "Died                     3.0           NaN           1.0     NaN  \n",
       "Disposal                 NaN           NaN           NaN     3.0  \n",
       "Euthanasia               4.0           4.0           1.0    19.0  \n",
       "Return to Owner         23.0          17.0          15.0     2.0  \n",
       "Rto-Adopt                1.0           9.0           NaN     NaN  \n",
       "Transfer                71.0          22.0          18.0    20.0  \n",
       "\n",
       "[7 rows x 50 columns]"
      ]
     },
     "execution_count": 28,
     "metadata": {},
     "output_type": "execute_result"
    }
   ],
   "source": [
    "animals.pivot_table(index='outcome_type', columns='sex_upon_outcome', aggfunc=len)"
   ]
  },
  {
   "cell_type": "markdown",
   "metadata": {
    "heading_collapsed": true,
    "hidden": true
   },
   "source": [
    "## Exercise"
   ]
  },
  {
   "cell_type": "markdown",
   "metadata": {
    "hidden": true
   },
   "source": [
    "Use `.pivot_table()` to add up the number of my tasks by category. \n",
    "\n",
    ">  Hint: Use `sum()` as your aggregating function."
   ]
  },
  {
   "cell_type": "code",
   "execution_count": 29,
   "metadata": {
    "hidden": true
   },
   "outputs": [
    {
     "data": {
      "text/html": [
       "<div>\n",
       "<style scoped>\n",
       "    .dataframe tbody tr th:only-of-type {\n",
       "        vertical-align: middle;\n",
       "    }\n",
       "\n",
       "    .dataframe tbody tr th {\n",
       "        vertical-align: top;\n",
       "    }\n",
       "\n",
       "    .dataframe thead th {\n",
       "        text-align: right;\n",
       "    }\n",
       "</style>\n",
       "<table border=\"1\" class=\"dataframe\">\n",
       "  <thead>\n",
       "    <tr style=\"text-align: right;\">\n",
       "      <th></th>\n",
       "      <th>category</th>\n",
       "      <th>descr</th>\n",
       "      <th>priority</th>\n",
       "      <th>num_tasks</th>\n",
       "    </tr>\n",
       "  </thead>\n",
       "  <tbody>\n",
       "    <tr>\n",
       "      <th>0</th>\n",
       "      <td>house</td>\n",
       "      <td>kitchen</td>\n",
       "      <td>2</td>\n",
       "      <td>2</td>\n",
       "    </tr>\n",
       "    <tr>\n",
       "      <th>1</th>\n",
       "      <td>house</td>\n",
       "      <td>laundry</td>\n",
       "      <td>3</td>\n",
       "      <td>1</td>\n",
       "    </tr>\n",
       "    <tr>\n",
       "      <th>2</th>\n",
       "      <td>school</td>\n",
       "      <td>git</td>\n",
       "      <td>4</td>\n",
       "      <td>2</td>\n",
       "    </tr>\n",
       "    <tr>\n",
       "      <th>3</th>\n",
       "      <td>school</td>\n",
       "      <td>Python</td>\n",
       "      <td>1</td>\n",
       "      <td>3</td>\n",
       "    </tr>\n",
       "  </tbody>\n",
       "</table>\n",
       "</div>"
      ],
      "text/plain": [
       "  category    descr  priority  num_tasks\n",
       "0    house  kitchen         2          2\n",
       "1    house  laundry         3          1\n",
       "2   school      git         4          2\n",
       "3   school   Python         1          3"
      ]
     },
     "execution_count": 29,
     "metadata": {},
     "output_type": "execute_result"
    }
   ],
   "source": [
    "tasks = pd.DataFrame({'category': ['house', 'house', 'school', 'school'],\n",
    "                      'descr': ['kitchen', 'laundry', 'git', 'Python'],\n",
    "                      'priority': [2, 3, 4, 1], 'num_tasks': [2, 1, 2, 3]})\n",
    "\n",
    "tasks"
   ]
  },
  {
   "cell_type": "code",
   "execution_count": 40,
   "metadata": {},
   "outputs": [
    {
     "data": {
      "text/html": [
       "<div>\n",
       "<style scoped>\n",
       "    .dataframe tbody tr th:only-of-type {\n",
       "        vertical-align: middle;\n",
       "    }\n",
       "\n",
       "    .dataframe tbody tr th {\n",
       "        vertical-align: top;\n",
       "    }\n",
       "\n",
       "    .dataframe thead th {\n",
       "        text-align: right;\n",
       "    }\n",
       "</style>\n",
       "<table border=\"1\" class=\"dataframe\">\n",
       "  <thead>\n",
       "    <tr style=\"text-align: right;\">\n",
       "      <th>descr</th>\n",
       "      <th>Python</th>\n",
       "      <th>git</th>\n",
       "      <th>kitchen</th>\n",
       "      <th>laundry</th>\n",
       "    </tr>\n",
       "    <tr>\n",
       "      <th>category</th>\n",
       "      <th></th>\n",
       "      <th></th>\n",
       "      <th></th>\n",
       "      <th></th>\n",
       "    </tr>\n",
       "  </thead>\n",
       "  <tbody>\n",
       "    <tr>\n",
       "      <th>house</th>\n",
       "      <td>NaN</td>\n",
       "      <td>NaN</td>\n",
       "      <td>2.0</td>\n",
       "      <td>1.0</td>\n",
       "    </tr>\n",
       "    <tr>\n",
       "      <th>school</th>\n",
       "      <td>3.0</td>\n",
       "      <td>2.0</td>\n",
       "      <td>NaN</td>\n",
       "      <td>NaN</td>\n",
       "    </tr>\n",
       "  </tbody>\n",
       "</table>\n",
       "</div>"
      ],
      "text/plain": [
       "descr     Python  git  kitchen  laundry\n",
       "category                               \n",
       "house        NaN  NaN      2.0      1.0\n",
       "school       3.0  2.0      NaN      NaN"
      ]
     },
     "execution_count": 40,
     "metadata": {},
     "output_type": "execute_result"
    }
   ],
   "source": [
    "tasks.pivot_table(values='num_tasks', index='category', columns='descr', aggfunc=sum)"
   ]
  },
  {
   "cell_type": "markdown",
   "metadata": {
    "hidden": true
   },
   "source": [
    "<details>\n",
    "    <summary>Answer</summary>\n",
    "\n",
    "```python\n",
    "tasks.pivot_table(values='num_tasks', index='category', aggfunc=sum)\n",
    "```\n",
    "</details>"
   ]
  },
  {
   "cell_type": "markdown",
   "metadata": {
    "heading_collapsed": true
   },
   "source": [
    "# Methods for Combining DataFrames: `.join()`, `.merge()`, `pd.concat()`"
   ]
  },
  {
   "cell_type": "markdown",
   "metadata": {
    "heading_collapsed": true,
    "hidden": true
   },
   "source": [
    "## `.join()`"
   ]
  },
  {
   "cell_type": "code",
   "execution_count": 41,
   "metadata": {
    "hidden": true
   },
   "outputs": [
    {
     "data": {
      "text/html": [
       "<div>\n",
       "<style scoped>\n",
       "    .dataframe tbody tr th:only-of-type {\n",
       "        vertical-align: middle;\n",
       "    }\n",
       "\n",
       "    .dataframe tbody tr th {\n",
       "        vertical-align: top;\n",
       "    }\n",
       "\n",
       "    .dataframe thead th {\n",
       "        text-align: right;\n",
       "    }\n",
       "</style>\n",
       "<table border=\"1\" class=\"dataframe\">\n",
       "  <thead>\n",
       "    <tr style=\"text-align: right;\">\n",
       "      <th></th>\n",
       "      <th>age</th>\n",
       "      <th>HP</th>\n",
       "    </tr>\n",
       "  </thead>\n",
       "  <tbody>\n",
       "    <tr>\n",
       "      <th>0</th>\n",
       "      <td>63</td>\n",
       "      <td>142</td>\n",
       "    </tr>\n",
       "    <tr>\n",
       "      <th>1</th>\n",
       "      <td>33</td>\n",
       "      <td>47</td>\n",
       "    </tr>\n",
       "  </tbody>\n",
       "</table>\n",
       "</div>"
      ],
      "text/plain": [
       "   age   HP\n",
       "0   63  142\n",
       "1   33   47"
      ]
     },
     "execution_count": 41,
     "metadata": {},
     "output_type": "execute_result"
    }
   ],
   "source": [
    "toy1 = pd.DataFrame([[63, 142], [33, 47]], columns=['age', 'HP'])\n",
    "toy2 = pd.DataFrame([[63, 100], [33, 200]], columns=['age', 'MP'])\n",
    "\n",
    "toy1"
   ]
  },
  {
   "cell_type": "code",
   "execution_count": 42,
   "metadata": {
    "hidden": true
   },
   "outputs": [
    {
     "data": {
      "text/html": [
       "<div>\n",
       "<style scoped>\n",
       "    .dataframe tbody tr th:only-of-type {\n",
       "        vertical-align: middle;\n",
       "    }\n",
       "\n",
       "    .dataframe tbody tr th {\n",
       "        vertical-align: top;\n",
       "    }\n",
       "\n",
       "    .dataframe thead th {\n",
       "        text-align: right;\n",
       "    }\n",
       "</style>\n",
       "<table border=\"1\" class=\"dataframe\">\n",
       "  <thead>\n",
       "    <tr style=\"text-align: right;\">\n",
       "      <th></th>\n",
       "      <th>age</th>\n",
       "      <th>MP</th>\n",
       "    </tr>\n",
       "  </thead>\n",
       "  <tbody>\n",
       "    <tr>\n",
       "      <th>0</th>\n",
       "      <td>63</td>\n",
       "      <td>100</td>\n",
       "    </tr>\n",
       "    <tr>\n",
       "      <th>1</th>\n",
       "      <td>33</td>\n",
       "      <td>200</td>\n",
       "    </tr>\n",
       "  </tbody>\n",
       "</table>\n",
       "</div>"
      ],
      "text/plain": [
       "   age   MP\n",
       "0   63  100\n",
       "1   33  200"
      ]
     },
     "execution_count": 42,
     "metadata": {},
     "output_type": "execute_result"
    }
   ],
   "source": [
    "toy2"
   ]
  },
  {
   "cell_type": "code",
   "execution_count": 43,
   "metadata": {
    "hidden": true
   },
   "outputs": [
    {
     "ename": "ValueError",
     "evalue": "columns overlap but no suffix specified: Index(['age'], dtype='object')",
     "output_type": "error",
     "traceback": [
      "\u001b[0;31m---------------------------------------------------------------------------\u001b[0m",
      "\u001b[0;31mValueError\u001b[0m                                Traceback (most recent call last)",
      "\u001b[0;32m<ipython-input-43-ac291fb78a21>\u001b[0m in \u001b[0;36m<module>\u001b[0;34m\u001b[0m\n\u001b[1;32m      1\u001b[0m \u001b[0;31m# We can't just join these as they are, since we haven't specified our suffixes.\u001b[0m\u001b[0;34m\u001b[0m\u001b[0;34m\u001b[0m\u001b[0;34m\u001b[0m\u001b[0m\n\u001b[1;32m      2\u001b[0m \u001b[0;34m\u001b[0m\u001b[0m\n\u001b[0;32m----> 3\u001b[0;31m \u001b[0mtoy1\u001b[0m\u001b[0;34m.\u001b[0m\u001b[0mjoin\u001b[0m\u001b[0;34m(\u001b[0m\u001b[0mtoy2\u001b[0m\u001b[0;34m)\u001b[0m\u001b[0;34m\u001b[0m\u001b[0;34m\u001b[0m\u001b[0m\n\u001b[0m",
      "\u001b[0;32m~/opt/anaconda3/envs/learn-env/lib/python3.8/site-packages/pandas/core/frame.py\u001b[0m in \u001b[0;36mjoin\u001b[0;34m(self, other, on, how, lsuffix, rsuffix, sort)\u001b[0m\n\u001b[1;32m   7868\u001b[0m         \u001b[0;36m5\u001b[0m  \u001b[0mK5\u001b[0m  \u001b[0mA5\u001b[0m  \u001b[0mNaN\u001b[0m\u001b[0;34m\u001b[0m\u001b[0;34m\u001b[0m\u001b[0m\n\u001b[1;32m   7869\u001b[0m         \"\"\"\n\u001b[0;32m-> 7870\u001b[0;31m         return self._join_compat(\n\u001b[0m\u001b[1;32m   7871\u001b[0m             \u001b[0mother\u001b[0m\u001b[0;34m,\u001b[0m \u001b[0mon\u001b[0m\u001b[0;34m=\u001b[0m\u001b[0mon\u001b[0m\u001b[0;34m,\u001b[0m \u001b[0mhow\u001b[0m\u001b[0;34m=\u001b[0m\u001b[0mhow\u001b[0m\u001b[0;34m,\u001b[0m \u001b[0mlsuffix\u001b[0m\u001b[0;34m=\u001b[0m\u001b[0mlsuffix\u001b[0m\u001b[0;34m,\u001b[0m \u001b[0mrsuffix\u001b[0m\u001b[0;34m=\u001b[0m\u001b[0mrsuffix\u001b[0m\u001b[0;34m,\u001b[0m \u001b[0msort\u001b[0m\u001b[0;34m=\u001b[0m\u001b[0msort\u001b[0m\u001b[0;34m\u001b[0m\u001b[0;34m\u001b[0m\u001b[0m\n\u001b[1;32m   7872\u001b[0m         )\n",
      "\u001b[0;32m~/opt/anaconda3/envs/learn-env/lib/python3.8/site-packages/pandas/core/frame.py\u001b[0m in \u001b[0;36m_join_compat\u001b[0;34m(self, other, on, how, lsuffix, rsuffix, sort)\u001b[0m\n\u001b[1;32m   7884\u001b[0m \u001b[0;34m\u001b[0m\u001b[0m\n\u001b[1;32m   7885\u001b[0m         \u001b[0;32mif\u001b[0m \u001b[0misinstance\u001b[0m\u001b[0;34m(\u001b[0m\u001b[0mother\u001b[0m\u001b[0;34m,\u001b[0m \u001b[0mDataFrame\u001b[0m\u001b[0;34m)\u001b[0m\u001b[0;34m:\u001b[0m\u001b[0;34m\u001b[0m\u001b[0;34m\u001b[0m\u001b[0m\n\u001b[0;32m-> 7886\u001b[0;31m             return merge(\n\u001b[0m\u001b[1;32m   7887\u001b[0m                 \u001b[0mself\u001b[0m\u001b[0;34m,\u001b[0m\u001b[0;34m\u001b[0m\u001b[0;34m\u001b[0m\u001b[0m\n\u001b[1;32m   7888\u001b[0m                 \u001b[0mother\u001b[0m\u001b[0;34m,\u001b[0m\u001b[0;34m\u001b[0m\u001b[0;34m\u001b[0m\u001b[0m\n",
      "\u001b[0;32m~/opt/anaconda3/envs/learn-env/lib/python3.8/site-packages/pandas/core/reshape/merge.py\u001b[0m in \u001b[0;36mmerge\u001b[0;34m(left, right, how, on, left_on, right_on, left_index, right_index, sort, suffixes, copy, indicator, validate)\u001b[0m\n\u001b[1;32m     87\u001b[0m         \u001b[0mvalidate\u001b[0m\u001b[0;34m=\u001b[0m\u001b[0mvalidate\u001b[0m\u001b[0;34m,\u001b[0m\u001b[0;34m\u001b[0m\u001b[0;34m\u001b[0m\u001b[0m\n\u001b[1;32m     88\u001b[0m     )\n\u001b[0;32m---> 89\u001b[0;31m     \u001b[0;32mreturn\u001b[0m \u001b[0mop\u001b[0m\u001b[0;34m.\u001b[0m\u001b[0mget_result\u001b[0m\u001b[0;34m(\u001b[0m\u001b[0;34m)\u001b[0m\u001b[0;34m\u001b[0m\u001b[0;34m\u001b[0m\u001b[0m\n\u001b[0m\u001b[1;32m     90\u001b[0m \u001b[0;34m\u001b[0m\u001b[0m\n\u001b[1;32m     91\u001b[0m \u001b[0;34m\u001b[0m\u001b[0m\n",
      "\u001b[0;32m~/opt/anaconda3/envs/learn-env/lib/python3.8/site-packages/pandas/core/reshape/merge.py\u001b[0m in \u001b[0;36mget_result\u001b[0;34m(self)\u001b[0m\n\u001b[1;32m    668\u001b[0m         \u001b[0mjoin_index\u001b[0m\u001b[0;34m,\u001b[0m \u001b[0mleft_indexer\u001b[0m\u001b[0;34m,\u001b[0m \u001b[0mright_indexer\u001b[0m \u001b[0;34m=\u001b[0m \u001b[0mself\u001b[0m\u001b[0;34m.\u001b[0m\u001b[0m_get_join_info\u001b[0m\u001b[0;34m(\u001b[0m\u001b[0;34m)\u001b[0m\u001b[0;34m\u001b[0m\u001b[0;34m\u001b[0m\u001b[0m\n\u001b[1;32m    669\u001b[0m \u001b[0;34m\u001b[0m\u001b[0m\n\u001b[0;32m--> 670\u001b[0;31m         llabels, rlabels = _items_overlap_with_suffix(\n\u001b[0m\u001b[1;32m    671\u001b[0m             \u001b[0mself\u001b[0m\u001b[0;34m.\u001b[0m\u001b[0mleft\u001b[0m\u001b[0;34m.\u001b[0m\u001b[0m_info_axis\u001b[0m\u001b[0;34m,\u001b[0m \u001b[0mself\u001b[0m\u001b[0;34m.\u001b[0m\u001b[0mright\u001b[0m\u001b[0;34m.\u001b[0m\u001b[0m_info_axis\u001b[0m\u001b[0;34m,\u001b[0m \u001b[0mself\u001b[0m\u001b[0;34m.\u001b[0m\u001b[0msuffixes\u001b[0m\u001b[0;34m\u001b[0m\u001b[0;34m\u001b[0m\u001b[0m\n\u001b[1;32m    672\u001b[0m         )\n",
      "\u001b[0;32m~/opt/anaconda3/envs/learn-env/lib/python3.8/site-packages/pandas/core/reshape/merge.py\u001b[0m in \u001b[0;36m_items_overlap_with_suffix\u001b[0;34m(left, right, suffixes)\u001b[0m\n\u001b[1;32m   2089\u001b[0m \u001b[0;34m\u001b[0m\u001b[0m\n\u001b[1;32m   2090\u001b[0m     \u001b[0;32mif\u001b[0m \u001b[0;32mnot\u001b[0m \u001b[0mlsuffix\u001b[0m \u001b[0;32mand\u001b[0m \u001b[0;32mnot\u001b[0m \u001b[0mrsuffix\u001b[0m\u001b[0;34m:\u001b[0m\u001b[0;34m\u001b[0m\u001b[0;34m\u001b[0m\u001b[0m\n\u001b[0;32m-> 2091\u001b[0;31m         \u001b[0;32mraise\u001b[0m \u001b[0mValueError\u001b[0m\u001b[0;34m(\u001b[0m\u001b[0;34mf\"columns overlap but no suffix specified: {to_rename}\"\u001b[0m\u001b[0;34m)\u001b[0m\u001b[0;34m\u001b[0m\u001b[0;34m\u001b[0m\u001b[0m\n\u001b[0m\u001b[1;32m   2092\u001b[0m \u001b[0;34m\u001b[0m\u001b[0m\n\u001b[1;32m   2093\u001b[0m     \u001b[0;32mdef\u001b[0m \u001b[0mrenamer\u001b[0m\u001b[0;34m(\u001b[0m\u001b[0mx\u001b[0m\u001b[0;34m,\u001b[0m \u001b[0msuffix\u001b[0m\u001b[0;34m)\u001b[0m\u001b[0;34m:\u001b[0m\u001b[0;34m\u001b[0m\u001b[0;34m\u001b[0m\u001b[0m\n",
      "\u001b[0;31mValueError\u001b[0m: columns overlap but no suffix specified: Index(['age'], dtype='object')"
     ]
    }
   ],
   "source": [
    "# We can't just join these as they are, since we haven't specified our suffixes.\n",
    "\n",
    "toy1.join(toy2)"
   ]
  },
  {
   "cell_type": "code",
   "execution_count": 44,
   "metadata": {
    "hidden": true
   },
   "outputs": [
    {
     "data": {
      "text/html": [
       "<div>\n",
       "<style scoped>\n",
       "    .dataframe tbody tr th:only-of-type {\n",
       "        vertical-align: middle;\n",
       "    }\n",
       "\n",
       "    .dataframe tbody tr th {\n",
       "        vertical-align: top;\n",
       "    }\n",
       "\n",
       "    .dataframe thead th {\n",
       "        text-align: right;\n",
       "    }\n",
       "</style>\n",
       "<table border=\"1\" class=\"dataframe\">\n",
       "  <thead>\n",
       "    <tr style=\"text-align: right;\">\n",
       "      <th></th>\n",
       "      <th>age1</th>\n",
       "      <th>HP</th>\n",
       "      <th>age2</th>\n",
       "      <th>MP</th>\n",
       "    </tr>\n",
       "  </thead>\n",
       "  <tbody>\n",
       "    <tr>\n",
       "      <th>0</th>\n",
       "      <td>63</td>\n",
       "      <td>142</td>\n",
       "      <td>63</td>\n",
       "      <td>100</td>\n",
       "    </tr>\n",
       "    <tr>\n",
       "      <th>1</th>\n",
       "      <td>33</td>\n",
       "      <td>47</td>\n",
       "      <td>33</td>\n",
       "      <td>200</td>\n",
       "    </tr>\n",
       "  </tbody>\n",
       "</table>\n",
       "</div>"
      ],
      "text/plain": [
       "   age1   HP  age2   MP\n",
       "0    63  142    63  100\n",
       "1    33   47    33  200"
      ]
     },
     "execution_count": 44,
     "metadata": {},
     "output_type": "execute_result"
    }
   ],
   "source": [
    "toy1.join(toy2, lsuffix='1', rsuffix='2')"
   ]
  },
  {
   "cell_type": "markdown",
   "metadata": {
    "hidden": true
   },
   "source": [
    "If we don't want to keep both, we could set the overlapping column as the index in each DataFrame:"
   ]
  },
  {
   "cell_type": "code",
   "execution_count": 45,
   "metadata": {
    "hidden": true
   },
   "outputs": [
    {
     "data": {
      "text/html": [
       "<div>\n",
       "<style scoped>\n",
       "    .dataframe tbody tr th:only-of-type {\n",
       "        vertical-align: middle;\n",
       "    }\n",
       "\n",
       "    .dataframe tbody tr th {\n",
       "        vertical-align: top;\n",
       "    }\n",
       "\n",
       "    .dataframe thead th {\n",
       "        text-align: right;\n",
       "    }\n",
       "</style>\n",
       "<table border=\"1\" class=\"dataframe\">\n",
       "  <thead>\n",
       "    <tr style=\"text-align: right;\">\n",
       "      <th></th>\n",
       "      <th>HP</th>\n",
       "      <th>MP</th>\n",
       "    </tr>\n",
       "    <tr>\n",
       "      <th>age</th>\n",
       "      <th></th>\n",
       "      <th></th>\n",
       "    </tr>\n",
       "  </thead>\n",
       "  <tbody>\n",
       "    <tr>\n",
       "      <th>63</th>\n",
       "      <td>142</td>\n",
       "      <td>100</td>\n",
       "    </tr>\n",
       "    <tr>\n",
       "      <th>33</th>\n",
       "      <td>47</td>\n",
       "      <td>200</td>\n",
       "    </tr>\n",
       "  </tbody>\n",
       "</table>\n",
       "</div>"
      ],
      "text/plain": [
       "      HP   MP\n",
       "age          \n",
       "63   142  100\n",
       "33    47  200"
      ]
     },
     "execution_count": 45,
     "metadata": {},
     "output_type": "execute_result"
    }
   ],
   "source": [
    "toy1.set_index('age').join(toy2.set_index('age'))"
   ]
  },
  {
   "cell_type": "code",
   "execution_count": 48,
   "metadata": {},
   "outputs": [
    {
     "data": {
      "text/html": [
       "<div>\n",
       "<style scoped>\n",
       "    .dataframe tbody tr th:only-of-type {\n",
       "        vertical-align: middle;\n",
       "    }\n",
       "\n",
       "    .dataframe tbody tr th {\n",
       "        vertical-align: top;\n",
       "    }\n",
       "\n",
       "    .dataframe thead th {\n",
       "        text-align: right;\n",
       "    }\n",
       "</style>\n",
       "<table border=\"1\" class=\"dataframe\">\n",
       "  <thead>\n",
       "    <tr style=\"text-align: right;\">\n",
       "      <th></th>\n",
       "      <th>age</th>\n",
       "      <th>HP</th>\n",
       "      <th>MP</th>\n",
       "    </tr>\n",
       "  </thead>\n",
       "  <tbody>\n",
       "    <tr>\n",
       "      <th>0</th>\n",
       "      <td>63</td>\n",
       "      <td>142</td>\n",
       "      <td>100</td>\n",
       "    </tr>\n",
       "    <tr>\n",
       "      <th>1</th>\n",
       "      <td>33</td>\n",
       "      <td>47</td>\n",
       "      <td>200</td>\n",
       "    </tr>\n",
       "  </tbody>\n",
       "</table>\n",
       "</div>"
      ],
      "text/plain": [
       "   age   HP   MP\n",
       "0   63  142  100\n",
       "1   33   47  200"
      ]
     },
     "execution_count": 48,
     "metadata": {},
     "output_type": "execute_result"
    }
   ],
   "source": [
    "toy1.join(toy2.drop('age', axis=1))"
   ]
  },
  {
   "cell_type": "markdown",
   "metadata": {
    "hidden": true
   },
   "source": [
    "For more on this method, check out the [doc](https://pandas.pydata.org/pandas-docs/stable/reference/api/pandas.DataFrame.join.html)!"
   ]
  },
  {
   "cell_type": "markdown",
   "metadata": {
    "heading_collapsed": true,
    "hidden": true
   },
   "source": [
    "## `.merge()`"
   ]
  },
  {
   "cell_type": "markdown",
   "metadata": {
    "hidden": true
   },
   "source": [
    "Or we could use `.merge()`:"
   ]
  },
  {
   "cell_type": "code",
   "execution_count": 49,
   "metadata": {
    "hidden": true
   },
   "outputs": [
    {
     "data": {
      "text/html": [
       "<div>\n",
       "<style scoped>\n",
       "    .dataframe tbody tr th:only-of-type {\n",
       "        vertical-align: middle;\n",
       "    }\n",
       "\n",
       "    .dataframe tbody tr th {\n",
       "        vertical-align: top;\n",
       "    }\n",
       "\n",
       "    .dataframe thead th {\n",
       "        text-align: right;\n",
       "    }\n",
       "</style>\n",
       "<table border=\"1\" class=\"dataframe\">\n",
       "  <thead>\n",
       "    <tr style=\"text-align: right;\">\n",
       "      <th></th>\n",
       "      <th>age</th>\n",
       "      <th>HP</th>\n",
       "      <th>MP</th>\n",
       "    </tr>\n",
       "  </thead>\n",
       "  <tbody>\n",
       "    <tr>\n",
       "      <th>0</th>\n",
       "      <td>63</td>\n",
       "      <td>142</td>\n",
       "      <td>100</td>\n",
       "    </tr>\n",
       "    <tr>\n",
       "      <th>1</th>\n",
       "      <td>33</td>\n",
       "      <td>47</td>\n",
       "      <td>200</td>\n",
       "    </tr>\n",
       "  </tbody>\n",
       "</table>\n",
       "</div>"
      ],
      "text/plain": [
       "   age   HP   MP\n",
       "0   63  142  100\n",
       "1   33   47  200"
      ]
     },
     "execution_count": 49,
     "metadata": {},
     "output_type": "execute_result"
    }
   ],
   "source": [
    "toy1.merge(toy2)"
   ]
  },
  {
   "cell_type": "code",
   "execution_count": 50,
   "metadata": {
    "hidden": true
   },
   "outputs": [
    {
     "data": {
      "text/html": [
       "<div>\n",
       "<style scoped>\n",
       "    .dataframe tbody tr th:only-of-type {\n",
       "        vertical-align: middle;\n",
       "    }\n",
       "\n",
       "    .dataframe tbody tr th {\n",
       "        vertical-align: top;\n",
       "    }\n",
       "\n",
       "    .dataframe thead th {\n",
       "        text-align: right;\n",
       "    }\n",
       "</style>\n",
       "<table border=\"1\" class=\"dataframe\">\n",
       "  <thead>\n",
       "    <tr style=\"text-align: right;\">\n",
       "      <th></th>\n",
       "      <th>name</th>\n",
       "      <th>HP</th>\n",
       "      <th>home_state</th>\n",
       "    </tr>\n",
       "  </thead>\n",
       "  <tbody>\n",
       "    <tr>\n",
       "      <th>0</th>\n",
       "      <td>greg</td>\n",
       "      <td>200</td>\n",
       "      <td>WA</td>\n",
       "    </tr>\n",
       "    <tr>\n",
       "      <th>1</th>\n",
       "      <td>miles</td>\n",
       "      <td>200</td>\n",
       "      <td>WA</td>\n",
       "    </tr>\n",
       "    <tr>\n",
       "      <th>2</th>\n",
       "      <td>alan</td>\n",
       "      <td>170</td>\n",
       "      <td>TX</td>\n",
       "    </tr>\n",
       "    <tr>\n",
       "      <th>3</th>\n",
       "      <td>alison</td>\n",
       "      <td>300</td>\n",
       "      <td>DC</td>\n",
       "    </tr>\n",
       "    <tr>\n",
       "      <th>4</th>\n",
       "      <td>rachel</td>\n",
       "      <td>200</td>\n",
       "      <td>TX</td>\n",
       "    </tr>\n",
       "  </tbody>\n",
       "</table>\n",
       "</div>"
      ],
      "text/plain": [
       "     name   HP home_state\n",
       "0    greg  200         WA\n",
       "1   miles  200         WA\n",
       "2    alan  170         TX\n",
       "3  alison  300         DC\n",
       "4  rachel  200         TX"
      ]
     },
     "execution_count": 50,
     "metadata": {},
     "output_type": "execute_result"
    }
   ],
   "source": [
    "ds_chars = pd.read_csv('data/ds_chars.csv', index_col=0)\n",
    "ds_chars"
   ]
  },
  {
   "cell_type": "code",
   "execution_count": 51,
   "metadata": {
    "hidden": true
   },
   "outputs": [
    {
     "data": {
      "text/html": [
       "<div>\n",
       "<style scoped>\n",
       "    .dataframe tbody tr th:only-of-type {\n",
       "        vertical-align: middle;\n",
       "    }\n",
       "\n",
       "    .dataframe tbody tr th {\n",
       "        vertical-align: top;\n",
       "    }\n",
       "\n",
       "    .dataframe thead th {\n",
       "        text-align: right;\n",
       "    }\n",
       "</style>\n",
       "<table border=\"1\" class=\"dataframe\">\n",
       "  <thead>\n",
       "    <tr style=\"text-align: right;\">\n",
       "      <th></th>\n",
       "      <th>state</th>\n",
       "      <th>nickname</th>\n",
       "      <th>capital</th>\n",
       "    </tr>\n",
       "  </thead>\n",
       "  <tbody>\n",
       "    <tr>\n",
       "      <th>0</th>\n",
       "      <td>WA</td>\n",
       "      <td>evergreen</td>\n",
       "      <td>Olympia</td>\n",
       "    </tr>\n",
       "    <tr>\n",
       "      <th>1</th>\n",
       "      <td>TX</td>\n",
       "      <td>alamo</td>\n",
       "      <td>Austin</td>\n",
       "    </tr>\n",
       "    <tr>\n",
       "      <th>2</th>\n",
       "      <td>DC</td>\n",
       "      <td>district</td>\n",
       "      <td>Washington</td>\n",
       "    </tr>\n",
       "    <tr>\n",
       "      <th>3</th>\n",
       "      <td>OH</td>\n",
       "      <td>buckeye</td>\n",
       "      <td>Columbus</td>\n",
       "    </tr>\n",
       "    <tr>\n",
       "      <th>4</th>\n",
       "      <td>OR</td>\n",
       "      <td>beaver</td>\n",
       "      <td>Salem</td>\n",
       "    </tr>\n",
       "  </tbody>\n",
       "</table>\n",
       "</div>"
      ],
      "text/plain": [
       "  state   nickname     capital\n",
       "0    WA  evergreen     Olympia\n",
       "1    TX      alamo      Austin\n",
       "2    DC   district  Washington\n",
       "3    OH    buckeye    Columbus\n",
       "4    OR     beaver       Salem"
      ]
     },
     "execution_count": 51,
     "metadata": {},
     "output_type": "execute_result"
    }
   ],
   "source": [
    "states = pd.read_csv('data/states.csv', index_col=0)\n",
    "states"
   ]
  },
  {
   "cell_type": "markdown",
   "metadata": {
    "heading_collapsed": true,
    "hidden": true
   },
   "source": [
    "## The `how` Parameter"
   ]
  },
  {
   "cell_type": "markdown",
   "metadata": {
    "hidden": true
   },
   "source": [
    "This parameter in both `.join()` and `.merge()` tells the compiler what sort of join to effect. We'll cover this in detail when we discuss SQL."
   ]
  },
  {
   "cell_type": "code",
   "execution_count": 52,
   "metadata": {
    "hidden": true
   },
   "outputs": [
    {
     "data": {
      "text/html": [
       "<div>\n",
       "<style scoped>\n",
       "    .dataframe tbody tr th:only-of-type {\n",
       "        vertical-align: middle;\n",
       "    }\n",
       "\n",
       "    .dataframe tbody tr th {\n",
       "        vertical-align: top;\n",
       "    }\n",
       "\n",
       "    .dataframe thead th {\n",
       "        text-align: right;\n",
       "    }\n",
       "</style>\n",
       "<table border=\"1\" class=\"dataframe\">\n",
       "  <thead>\n",
       "    <tr style=\"text-align: right;\">\n",
       "      <th></th>\n",
       "      <th>name</th>\n",
       "      <th>HP</th>\n",
       "      <th>home_state</th>\n",
       "      <th>state</th>\n",
       "      <th>nickname</th>\n",
       "      <th>capital</th>\n",
       "    </tr>\n",
       "  </thead>\n",
       "  <tbody>\n",
       "    <tr>\n",
       "      <th>0</th>\n",
       "      <td>greg</td>\n",
       "      <td>200</td>\n",
       "      <td>WA</td>\n",
       "      <td>WA</td>\n",
       "      <td>evergreen</td>\n",
       "      <td>Olympia</td>\n",
       "    </tr>\n",
       "    <tr>\n",
       "      <th>1</th>\n",
       "      <td>miles</td>\n",
       "      <td>200</td>\n",
       "      <td>WA</td>\n",
       "      <td>WA</td>\n",
       "      <td>evergreen</td>\n",
       "      <td>Olympia</td>\n",
       "    </tr>\n",
       "    <tr>\n",
       "      <th>2</th>\n",
       "      <td>alan</td>\n",
       "      <td>170</td>\n",
       "      <td>TX</td>\n",
       "      <td>TX</td>\n",
       "      <td>alamo</td>\n",
       "      <td>Austin</td>\n",
       "    </tr>\n",
       "    <tr>\n",
       "      <th>3</th>\n",
       "      <td>rachel</td>\n",
       "      <td>200</td>\n",
       "      <td>TX</td>\n",
       "      <td>TX</td>\n",
       "      <td>alamo</td>\n",
       "      <td>Austin</td>\n",
       "    </tr>\n",
       "    <tr>\n",
       "      <th>4</th>\n",
       "      <td>alison</td>\n",
       "      <td>300</td>\n",
       "      <td>DC</td>\n",
       "      <td>DC</td>\n",
       "      <td>district</td>\n",
       "      <td>Washington</td>\n",
       "    </tr>\n",
       "  </tbody>\n",
       "</table>\n",
       "</div>"
      ],
      "text/plain": [
       "     name   HP home_state state   nickname     capital\n",
       "0    greg  200         WA    WA  evergreen     Olympia\n",
       "1   miles  200         WA    WA  evergreen     Olympia\n",
       "2    alan  170         TX    TX      alamo      Austin\n",
       "3  rachel  200         TX    TX      alamo      Austin\n",
       "4  alison  300         DC    DC   district  Washington"
      ]
     },
     "execution_count": 52,
     "metadata": {},
     "output_type": "execute_result"
    }
   ],
   "source": [
    "ds_chars.merge(states,\n",
    "               left_on='home_state',\n",
    "               right_on='state',\n",
    "               how='inner')"
   ]
  },
  {
   "cell_type": "code",
   "execution_count": 57,
   "metadata": {
    "hidden": true
   },
   "outputs": [
    {
     "data": {
      "text/html": [
       "<div>\n",
       "<style scoped>\n",
       "    .dataframe tbody tr th:only-of-type {\n",
       "        vertical-align: middle;\n",
       "    }\n",
       "\n",
       "    .dataframe tbody tr th {\n",
       "        vertical-align: top;\n",
       "    }\n",
       "\n",
       "    .dataframe thead th {\n",
       "        text-align: right;\n",
       "    }\n",
       "</style>\n",
       "<table border=\"1\" class=\"dataframe\">\n",
       "  <thead>\n",
       "    <tr style=\"text-align: right;\">\n",
       "      <th></th>\n",
       "      <th>name</th>\n",
       "      <th>HP</th>\n",
       "      <th>home_state</th>\n",
       "      <th>state</th>\n",
       "      <th>nickname</th>\n",
       "      <th>capital</th>\n",
       "    </tr>\n",
       "  </thead>\n",
       "  <tbody>\n",
       "    <tr>\n",
       "      <th>0</th>\n",
       "      <td>greg</td>\n",
       "      <td>200.0</td>\n",
       "      <td>WA</td>\n",
       "      <td>WA</td>\n",
       "      <td>evergreen</td>\n",
       "      <td>Olympia</td>\n",
       "    </tr>\n",
       "    <tr>\n",
       "      <th>1</th>\n",
       "      <td>miles</td>\n",
       "      <td>200.0</td>\n",
       "      <td>WA</td>\n",
       "      <td>WA</td>\n",
       "      <td>evergreen</td>\n",
       "      <td>Olympia</td>\n",
       "    </tr>\n",
       "    <tr>\n",
       "      <th>2</th>\n",
       "      <td>alan</td>\n",
       "      <td>170.0</td>\n",
       "      <td>TX</td>\n",
       "      <td>TX</td>\n",
       "      <td>alamo</td>\n",
       "      <td>Austin</td>\n",
       "    </tr>\n",
       "    <tr>\n",
       "      <th>3</th>\n",
       "      <td>rachel</td>\n",
       "      <td>200.0</td>\n",
       "      <td>TX</td>\n",
       "      <td>TX</td>\n",
       "      <td>alamo</td>\n",
       "      <td>Austin</td>\n",
       "    </tr>\n",
       "    <tr>\n",
       "      <th>4</th>\n",
       "      <td>alison</td>\n",
       "      <td>300.0</td>\n",
       "      <td>DC</td>\n",
       "      <td>DC</td>\n",
       "      <td>district</td>\n",
       "      <td>Washington</td>\n",
       "    </tr>\n",
       "    <tr>\n",
       "      <th>5</th>\n",
       "      <td>NaN</td>\n",
       "      <td>NaN</td>\n",
       "      <td>NaN</td>\n",
       "      <td>OH</td>\n",
       "      <td>buckeye</td>\n",
       "      <td>Columbus</td>\n",
       "    </tr>\n",
       "    <tr>\n",
       "      <th>6</th>\n",
       "      <td>NaN</td>\n",
       "      <td>NaN</td>\n",
       "      <td>NaN</td>\n",
       "      <td>OR</td>\n",
       "      <td>beaver</td>\n",
       "      <td>Salem</td>\n",
       "    </tr>\n",
       "  </tbody>\n",
       "</table>\n",
       "</div>"
      ],
      "text/plain": [
       "     name     HP home_state state   nickname     capital\n",
       "0    greg  200.0         WA    WA  evergreen     Olympia\n",
       "1   miles  200.0         WA    WA  evergreen     Olympia\n",
       "2    alan  170.0         TX    TX      alamo      Austin\n",
       "3  rachel  200.0         TX    TX      alamo      Austin\n",
       "4  alison  300.0         DC    DC   district  Washington\n",
       "5     NaN    NaN        NaN    OH    buckeye    Columbus\n",
       "6     NaN    NaN        NaN    OR     beaver       Salem"
      ]
     },
     "execution_count": 57,
     "metadata": {},
     "output_type": "execute_result"
    }
   ],
   "source": [
    "ds_chars.merge(states,\n",
    "               left_on='home_state',\n",
    "               right_on='state',\n",
    "               how='outer')"
   ]
  },
  {
   "cell_type": "markdown",
   "metadata": {
    "heading_collapsed": true,
    "hidden": true
   },
   "source": [
    "## `pd.concat()`"
   ]
  },
  {
   "cell_type": "markdown",
   "metadata": {
    "hidden": true
   },
   "source": [
    "This method takes a *list* of pandas objects as arguments."
   ]
  },
  {
   "cell_type": "code",
   "execution_count": 58,
   "metadata": {
    "hidden": true
   },
   "outputs": [
    {
     "data": {
      "text/html": [
       "<div>\n",
       "<style scoped>\n",
       "    .dataframe tbody tr th:only-of-type {\n",
       "        vertical-align: middle;\n",
       "    }\n",
       "\n",
       "    .dataframe tbody tr th {\n",
       "        vertical-align: top;\n",
       "    }\n",
       "\n",
       "    .dataframe thead th {\n",
       "        text-align: right;\n",
       "    }\n",
       "</style>\n",
       "<table border=\"1\" class=\"dataframe\">\n",
       "  <thead>\n",
       "    <tr style=\"text-align: right;\">\n",
       "      <th></th>\n",
       "      <th>name</th>\n",
       "      <th>HP</th>\n",
       "      <th>home_state</th>\n",
       "      <th>state</th>\n",
       "      <th>nickname</th>\n",
       "      <th>capital</th>\n",
       "    </tr>\n",
       "  </thead>\n",
       "  <tbody>\n",
       "    <tr>\n",
       "      <th>0</th>\n",
       "      <td>greg</td>\n",
       "      <td>200.0</td>\n",
       "      <td>WA</td>\n",
       "      <td>NaN</td>\n",
       "      <td>NaN</td>\n",
       "      <td>NaN</td>\n",
       "    </tr>\n",
       "    <tr>\n",
       "      <th>1</th>\n",
       "      <td>miles</td>\n",
       "      <td>200.0</td>\n",
       "      <td>WA</td>\n",
       "      <td>NaN</td>\n",
       "      <td>NaN</td>\n",
       "      <td>NaN</td>\n",
       "    </tr>\n",
       "    <tr>\n",
       "      <th>2</th>\n",
       "      <td>alan</td>\n",
       "      <td>170.0</td>\n",
       "      <td>TX</td>\n",
       "      <td>NaN</td>\n",
       "      <td>NaN</td>\n",
       "      <td>NaN</td>\n",
       "    </tr>\n",
       "    <tr>\n",
       "      <th>3</th>\n",
       "      <td>alison</td>\n",
       "      <td>300.0</td>\n",
       "      <td>DC</td>\n",
       "      <td>NaN</td>\n",
       "      <td>NaN</td>\n",
       "      <td>NaN</td>\n",
       "    </tr>\n",
       "    <tr>\n",
       "      <th>4</th>\n",
       "      <td>rachel</td>\n",
       "      <td>200.0</td>\n",
       "      <td>TX</td>\n",
       "      <td>NaN</td>\n",
       "      <td>NaN</td>\n",
       "      <td>NaN</td>\n",
       "    </tr>\n",
       "    <tr>\n",
       "      <th>0</th>\n",
       "      <td>NaN</td>\n",
       "      <td>NaN</td>\n",
       "      <td>NaN</td>\n",
       "      <td>WA</td>\n",
       "      <td>evergreen</td>\n",
       "      <td>Olympia</td>\n",
       "    </tr>\n",
       "    <tr>\n",
       "      <th>1</th>\n",
       "      <td>NaN</td>\n",
       "      <td>NaN</td>\n",
       "      <td>NaN</td>\n",
       "      <td>TX</td>\n",
       "      <td>alamo</td>\n",
       "      <td>Austin</td>\n",
       "    </tr>\n",
       "    <tr>\n",
       "      <th>2</th>\n",
       "      <td>NaN</td>\n",
       "      <td>NaN</td>\n",
       "      <td>NaN</td>\n",
       "      <td>DC</td>\n",
       "      <td>district</td>\n",
       "      <td>Washington</td>\n",
       "    </tr>\n",
       "    <tr>\n",
       "      <th>3</th>\n",
       "      <td>NaN</td>\n",
       "      <td>NaN</td>\n",
       "      <td>NaN</td>\n",
       "      <td>OH</td>\n",
       "      <td>buckeye</td>\n",
       "      <td>Columbus</td>\n",
       "    </tr>\n",
       "    <tr>\n",
       "      <th>4</th>\n",
       "      <td>NaN</td>\n",
       "      <td>NaN</td>\n",
       "      <td>NaN</td>\n",
       "      <td>OR</td>\n",
       "      <td>beaver</td>\n",
       "      <td>Salem</td>\n",
       "    </tr>\n",
       "  </tbody>\n",
       "</table>\n",
       "</div>"
      ],
      "text/plain": [
       "     name     HP home_state state   nickname     capital\n",
       "0    greg  200.0         WA   NaN        NaN         NaN\n",
       "1   miles  200.0         WA   NaN        NaN         NaN\n",
       "2    alan  170.0         TX   NaN        NaN         NaN\n",
       "3  alison  300.0         DC   NaN        NaN         NaN\n",
       "4  rachel  200.0         TX   NaN        NaN         NaN\n",
       "0     NaN    NaN        NaN    WA  evergreen     Olympia\n",
       "1     NaN    NaN        NaN    TX      alamo      Austin\n",
       "2     NaN    NaN        NaN    DC   district  Washington\n",
       "3     NaN    NaN        NaN    OH    buckeye    Columbus\n",
       "4     NaN    NaN        NaN    OR     beaver       Salem"
      ]
     },
     "execution_count": 58,
     "metadata": {},
     "output_type": "execute_result"
    }
   ],
   "source": [
    "ds_full = pd.concat([ds_chars, states])\n",
    "ds_full"
   ]
  },
  {
   "cell_type": "markdown",
   "metadata": {
    "hidden": true
   },
   "source": [
    "`pd.concat()`–– and many other pandas operations –– make use of an `axis` parameter. For this particular method I need to specify whether I want to concatenate the DataFrames *row-wise* (`axis=0`) or *column-wise* (`axis=1`). The default is `axis=0`, so let's override that!"
   ]
  },
  {
   "cell_type": "code",
   "execution_count": 59,
   "metadata": {
    "hidden": true
   },
   "outputs": [
    {
     "data": {
      "text/html": [
       "<div>\n",
       "<style scoped>\n",
       "    .dataframe tbody tr th:only-of-type {\n",
       "        vertical-align: middle;\n",
       "    }\n",
       "\n",
       "    .dataframe tbody tr th {\n",
       "        vertical-align: top;\n",
       "    }\n",
       "\n",
       "    .dataframe thead th {\n",
       "        text-align: right;\n",
       "    }\n",
       "</style>\n",
       "<table border=\"1\" class=\"dataframe\">\n",
       "  <thead>\n",
       "    <tr style=\"text-align: right;\">\n",
       "      <th></th>\n",
       "      <th>name</th>\n",
       "      <th>HP</th>\n",
       "      <th>home_state</th>\n",
       "      <th>state</th>\n",
       "      <th>nickname</th>\n",
       "      <th>capital</th>\n",
       "    </tr>\n",
       "  </thead>\n",
       "  <tbody>\n",
       "    <tr>\n",
       "      <th>0</th>\n",
       "      <td>greg</td>\n",
       "      <td>200</td>\n",
       "      <td>WA</td>\n",
       "      <td>WA</td>\n",
       "      <td>evergreen</td>\n",
       "      <td>Olympia</td>\n",
       "    </tr>\n",
       "    <tr>\n",
       "      <th>1</th>\n",
       "      <td>miles</td>\n",
       "      <td>200</td>\n",
       "      <td>WA</td>\n",
       "      <td>TX</td>\n",
       "      <td>alamo</td>\n",
       "      <td>Austin</td>\n",
       "    </tr>\n",
       "    <tr>\n",
       "      <th>2</th>\n",
       "      <td>alan</td>\n",
       "      <td>170</td>\n",
       "      <td>TX</td>\n",
       "      <td>DC</td>\n",
       "      <td>district</td>\n",
       "      <td>Washington</td>\n",
       "    </tr>\n",
       "    <tr>\n",
       "      <th>3</th>\n",
       "      <td>alison</td>\n",
       "      <td>300</td>\n",
       "      <td>DC</td>\n",
       "      <td>OH</td>\n",
       "      <td>buckeye</td>\n",
       "      <td>Columbus</td>\n",
       "    </tr>\n",
       "    <tr>\n",
       "      <th>4</th>\n",
       "      <td>rachel</td>\n",
       "      <td>200</td>\n",
       "      <td>TX</td>\n",
       "      <td>OR</td>\n",
       "      <td>beaver</td>\n",
       "      <td>Salem</td>\n",
       "    </tr>\n",
       "  </tbody>\n",
       "</table>\n",
       "</div>"
      ],
      "text/plain": [
       "     name   HP home_state state   nickname     capital\n",
       "0    greg  200         WA    WA  evergreen     Olympia\n",
       "1   miles  200         WA    TX      alamo      Austin\n",
       "2    alan  170         TX    DC   district  Washington\n",
       "3  alison  300         DC    OH    buckeye    Columbus\n",
       "4  rachel  200         TX    OR     beaver       Salem"
      ]
     },
     "execution_count": 59,
     "metadata": {},
     "output_type": "execute_result"
    }
   ],
   "source": [
    "ds_full = pd.concat([ds_chars, states], axis=1)\n",
    "ds_full"
   ]
  },
  {
   "cell_type": "markdown",
   "metadata": {
    "heading_collapsed": true
   },
   "source": [
    "# King County Assessments"
   ]
  },
  {
   "cell_type": "markdown",
   "metadata": {
    "hidden": true
   },
   "source": [
    "As data scientists, we want to build a model to predict the sale price of a house in Seattle in 2019, based on its square footage. We know that the King County Department of Assessments has comprehensive data available on real property sales in the Seattle area. We need to prepare the data."
   ]
  },
  {
   "cell_type": "markdown",
   "metadata": {
    "heading_collapsed": true,
    "hidden": true
   },
   "source": [
    "## First, get the data!"
   ]
  },
  {
   "cell_type": "markdown",
   "metadata": {
    "hidden": true
   },
   "source": [
    "Go [here](https://info.kingcounty.gov/assessor/DataDownload/default.aspx) and download two files: \"Real Property Sales\" and \"Residential Building\". Then unzip them. (Or you can run the cells below if you prefer.)"
   ]
  },
  {
   "cell_type": "code",
   "execution_count": null,
   "metadata": {
    "hidden": true
   },
   "outputs": [],
   "source": [
    "# %%bash\n",
    "# cd data\n",
    "# curl -o property_sales.zip https://aqua.kingcounty.gov/extranet/assessor/Real%20Property%20Sales.zip "
   ]
  },
  {
   "cell_type": "code",
   "execution_count": null,
   "metadata": {
    "hidden": true
   },
   "outputs": [],
   "source": [
    "# %%bash\n",
    "# cd data\n",
    "# curl -o res_bldg.zip https://aqua.kingcounty.gov/extranet/assessor/Residential%20Building.zip "
   ]
  },
  {
   "cell_type": "code",
   "execution_count": null,
   "metadata": {
    "hidden": true
   },
   "outputs": [],
   "source": [
    "# zf = ZipFile('data/property_sales.zip', 'r')\n",
    "# zf.extractall('data')\n",
    "# zf.close()"
   ]
  },
  {
   "cell_type": "code",
   "execution_count": null,
   "metadata": {
    "hidden": true
   },
   "outputs": [],
   "source": [
    "# zf = ZipFile('data/res_bldg.zip', 'r')\n",
    "# zf.extractall('data')\n",
    "# zf.close()"
   ]
  },
  {
   "cell_type": "code",
   "execution_count": 60,
   "metadata": {
    "hidden": true,
    "scrolled": true
   },
   "outputs": [
    {
     "name": "stderr",
     "output_type": "stream",
     "text": [
      "/Users/jeffreymarvel/opt/anaconda3/envs/learn-env/lib/python3.8/site-packages/IPython/core/interactiveshell.py:3145: DtypeWarning: Columns (1,2) have mixed types.Specify dtype option on import or set low_memory=False.\n",
      "  has_raised = await self.run_ast_nodes(code_ast.body, cell_name,\n"
     ]
    }
   ],
   "source": [
    "# You'll need to use a new encoding here. List of all encodings here:\n",
    "# https://docs.python.org/3/library/codecs.html#standard-encodings\n",
    "\n",
    "# Both of these csv files have many columns, so we'll just pre-select\n",
    "# which ones we want to use.\n",
    "\n",
    "sales_df = pd.read_csv('EXTR_RPSale.csv',\n",
    "                       encoding='latin-1',\n",
    "                       usecols=['Major', 'Minor', 'DocumentDate', 'SalePrice'])"
   ]
  },
  {
   "cell_type": "code",
   "execution_count": 61,
   "metadata": {
    "hidden": true
   },
   "outputs": [
    {
     "name": "stdout",
     "output_type": "stream",
     "text": [
      "<class 'pandas.core.frame.DataFrame'>\n",
      "RangeIndex: 2184250 entries, 0 to 2184249\n",
      "Data columns (total 4 columns):\n",
      " #   Column        Dtype \n",
      "---  ------        ----- \n",
      " 0   Major         object\n",
      " 1   Minor         object\n",
      " 2   DocumentDate  object\n",
      " 3   SalePrice     int64 \n",
      "dtypes: int64(1), object(3)\n",
      "memory usage: 66.7+ MB\n"
     ]
    }
   ],
   "source": [
    "sales_df.info()"
   ]
  },
  {
   "cell_type": "code",
   "execution_count": 62,
   "metadata": {
    "hidden": true,
    "scrolled": true
   },
   "outputs": [
    {
     "name": "stderr",
     "output_type": "stream",
     "text": [
      "/Users/jeffreymarvel/opt/anaconda3/envs/learn-env/lib/python3.8/site-packages/IPython/core/interactiveshell.py:3145: DtypeWarning: Columns (11) have mixed types.Specify dtype option on import or set low_memory=False.\n",
      "  has_raised = await self.run_ast_nodes(code_ast.body, cell_name,\n"
     ]
    }
   ],
   "source": [
    "bldg_df = pd.read_csv('EXTR_ResBldg.csv',\n",
    "                     usecols=['Major', 'Minor', 'SqFtTotLiving', 'ZipCode'])"
   ]
  },
  {
   "cell_type": "code",
   "execution_count": 65,
   "metadata": {
    "hidden": true,
    "scrolled": false
   },
   "outputs": [
    {
     "name": "stdout",
     "output_type": "stream",
     "text": [
      "<class 'pandas.core.frame.DataFrame'>\n",
      "RangeIndex: 521332 entries, 0 to 521331\n",
      "Data columns (total 4 columns):\n",
      " #   Column         Non-Null Count   Dtype \n",
      "---  ------         --------------   ----- \n",
      " 0   Major          521332 non-null  int64 \n",
      " 1   Minor          521332 non-null  int64 \n",
      " 2   ZipCode        470711 non-null  object\n",
      " 3   SqFtTotLiving  521332 non-null  int64 \n",
      "dtypes: int64(3), object(1)\n",
      "memory usage: 15.9+ MB\n"
     ]
    }
   ],
   "source": [
    "bldg_df.info()"
   ]
  },
  {
   "cell_type": "code",
   "execution_count": 68,
   "metadata": {
    "hidden": true
   },
   "outputs": [],
   "source": [
    "sales_data = pd.merge(sales_df, bldg_df, on=['Major', 'Minor'])"
   ]
  },
  {
   "cell_type": "code",
   "execution_count": 69,
   "metadata": {
    "hidden": true
   },
   "outputs": [
    {
     "data": {
      "text/html": [
       "<div>\n",
       "<style scoped>\n",
       "    .dataframe tbody tr th:only-of-type {\n",
       "        vertical-align: middle;\n",
       "    }\n",
       "\n",
       "    .dataframe tbody tr th {\n",
       "        vertical-align: top;\n",
       "    }\n",
       "\n",
       "    .dataframe thead th {\n",
       "        text-align: right;\n",
       "    }\n",
       "</style>\n",
       "<table border=\"1\" class=\"dataframe\">\n",
       "  <thead>\n",
       "    <tr style=\"text-align: right;\">\n",
       "      <th></th>\n",
       "      <th>Major</th>\n",
       "      <th>Minor</th>\n",
       "      <th>DocumentDate</th>\n",
       "      <th>SalePrice</th>\n",
       "      <th>ZipCode</th>\n",
       "      <th>SqFtTotLiving</th>\n",
       "    </tr>\n",
       "  </thead>\n",
       "  <tbody>\n",
       "    <tr>\n",
       "      <th>0</th>\n",
       "      <td>4000</td>\n",
       "      <td>228</td>\n",
       "      <td>04/29/1997</td>\n",
       "      <td>103500</td>\n",
       "      <td>98168</td>\n",
       "      <td>1560</td>\n",
       "    </tr>\n",
       "    <tr>\n",
       "      <th>1</th>\n",
       "      <td>4000</td>\n",
       "      <td>228</td>\n",
       "      <td>10/15/2014</td>\n",
       "      <td>221900</td>\n",
       "      <td>98168</td>\n",
       "      <td>1560</td>\n",
       "    </tr>\n",
       "    <tr>\n",
       "      <th>2</th>\n",
       "      <td>4000</td>\n",
       "      <td>228</td>\n",
       "      <td>08/28/2020</td>\n",
       "      <td>0</td>\n",
       "      <td>98168</td>\n",
       "      <td>1560</td>\n",
       "    </tr>\n",
       "    <tr>\n",
       "      <th>3</th>\n",
       "      <td>4000</td>\n",
       "      <td>228</td>\n",
       "      <td>05/06/2005</td>\n",
       "      <td>198000</td>\n",
       "      <td>98168</td>\n",
       "      <td>1560</td>\n",
       "    </tr>\n",
       "    <tr>\n",
       "      <th>4</th>\n",
       "      <td>4000</td>\n",
       "      <td>228</td>\n",
       "      <td>04/26/2019</td>\n",
       "      <td>369000</td>\n",
       "      <td>98168</td>\n",
       "      <td>1560</td>\n",
       "    </tr>\n",
       "  </tbody>\n",
       "</table>\n",
       "</div>"
      ],
      "text/plain": [
       "  Major Minor DocumentDate  SalePrice ZipCode  SqFtTotLiving\n",
       "0  4000   228   04/29/1997     103500   98168           1560\n",
       "1  4000   228   10/15/2014     221900   98168           1560\n",
       "2  4000   228   08/28/2020          0   98168           1560\n",
       "3  4000   228   05/06/2005     198000   98168           1560\n",
       "4  4000   228   04/26/2019     369000   98168           1560"
      ]
     },
     "execution_count": 69,
     "metadata": {},
     "output_type": "execute_result"
    }
   ],
   "source": [
    "sales_data.head()"
   ]
  },
  {
   "cell_type": "code",
   "execution_count": 70,
   "metadata": {
    "hidden": true
   },
   "outputs": [
    {
     "name": "stdout",
     "output_type": "stream",
     "text": [
      "<class 'pandas.core.frame.DataFrame'>\n",
      "Int64Index: 1519123 entries, 0 to 1519122\n",
      "Data columns (total 6 columns):\n",
      " #   Column         Non-Null Count    Dtype \n",
      "---  ------         --------------    ----- \n",
      " 0   Major          1519123 non-null  object\n",
      " 1   Minor          1519123 non-null  object\n",
      " 2   DocumentDate   1519123 non-null  object\n",
      " 3   SalePrice      1519123 non-null  int64 \n",
      " 4   ZipCode        1382847 non-null  object\n",
      " 5   SqFtTotLiving  1519123 non-null  int64 \n",
      "dtypes: int64(2), object(4)\n",
      "memory usage: 81.1+ MB\n"
     ]
    }
   ],
   "source": [
    "sales_data.info()"
   ]
  },
  {
   "cell_type": "markdown",
   "metadata": {
    "hidden": true
   },
   "source": [
    "We can see right away that we're missing ZIP codes for many of the sales transactions."
   ]
  },
  {
   "cell_type": "code",
   "execution_count": 71,
   "metadata": {
    "hidden": true
   },
   "outputs": [
    {
     "data": {
      "text/html": [
       "<div>\n",
       "<style scoped>\n",
       "    .dataframe tbody tr th:only-of-type {\n",
       "        vertical-align: middle;\n",
       "    }\n",
       "\n",
       "    .dataframe tbody tr th {\n",
       "        vertical-align: top;\n",
       "    }\n",
       "\n",
       "    .dataframe thead th {\n",
       "        text-align: right;\n",
       "    }\n",
       "</style>\n",
       "<table border=\"1\" class=\"dataframe\">\n",
       "  <thead>\n",
       "    <tr style=\"text-align: right;\">\n",
       "      <th></th>\n",
       "      <th>Major</th>\n",
       "      <th>Minor</th>\n",
       "      <th>DocumentDate</th>\n",
       "      <th>SalePrice</th>\n",
       "      <th>ZipCode</th>\n",
       "      <th>SqFtTotLiving</th>\n",
       "    </tr>\n",
       "  </thead>\n",
       "  <tbody>\n",
       "    <tr>\n",
       "      <th>28</th>\n",
       "      <td>226700</td>\n",
       "      <td>160</td>\n",
       "      <td>05/08/2003</td>\n",
       "      <td>0</td>\n",
       "      <td>NaN</td>\n",
       "      <td>1560</td>\n",
       "    </tr>\n",
       "    <tr>\n",
       "      <th>29</th>\n",
       "      <td>226700</td>\n",
       "      <td>160</td>\n",
       "      <td>05/11/1996</td>\n",
       "      <td>0</td>\n",
       "      <td>NaN</td>\n",
       "      <td>1560</td>\n",
       "    </tr>\n",
       "    <tr>\n",
       "      <th>30</th>\n",
       "      <td>226700</td>\n",
       "      <td>160</td>\n",
       "      <td>09/08/2011</td>\n",
       "      <td>0</td>\n",
       "      <td>NaN</td>\n",
       "      <td>1560</td>\n",
       "    </tr>\n",
       "    <tr>\n",
       "      <th>31</th>\n",
       "      <td>226700</td>\n",
       "      <td>160</td>\n",
       "      <td>10/09/2018</td>\n",
       "      <td>855000</td>\n",
       "      <td>NaN</td>\n",
       "      <td>1560</td>\n",
       "    </tr>\n",
       "    <tr>\n",
       "      <th>32</th>\n",
       "      <td>226700</td>\n",
       "      <td>160</td>\n",
       "      <td>01/24/2020</td>\n",
       "      <td>0</td>\n",
       "      <td>NaN</td>\n",
       "      <td>1560</td>\n",
       "    </tr>\n",
       "  </tbody>\n",
       "</table>\n",
       "</div>"
      ],
      "text/plain": [
       "     Major Minor DocumentDate  SalePrice ZipCode  SqFtTotLiving\n",
       "28  226700   160   05/08/2003          0     NaN           1560\n",
       "29  226700   160   05/11/1996          0     NaN           1560\n",
       "30  226700   160   09/08/2011          0     NaN           1560\n",
       "31  226700   160   10/09/2018     855000     NaN           1560\n",
       "32  226700   160   01/24/2020          0     NaN           1560"
      ]
     },
     "execution_count": 71,
     "metadata": {},
     "output_type": "execute_result"
    }
   ],
   "source": [
    "sales_data.loc[sales_data['ZipCode'].isna()].head()"
   ]
  },
  {
   "cell_type": "markdown",
   "metadata": {
    "heading_collapsed": true,
    "hidden": true
   },
   "source": [
    "## Exercise"
   ]
  },
  {
   "cell_type": "markdown",
   "metadata": {
    "hidden": true
   },
   "source": [
    "What percentage of housing records are missing ZIP codes?"
   ]
  },
  {
   "cell_type": "code",
   "execution_count": null,
   "metadata": {
    "hidden": true
   },
   "outputs": [],
   "source": []
  },
  {
   "cell_type": "markdown",
   "metadata": {
    "hidden": true
   },
   "source": [
    "<details>\n",
    "    <summary>Answer</summary>\n",
    "\n",
    "```python\n",
    "sales_data['ZipCode'].isna().sum() / sales_data.shape[0]\n",
    "```\n",
    "</details>"
   ]
  },
  {
   "cell_type": "markdown",
   "metadata": {
    "hidden": true
   },
   "source": [
    "Let's drop the rows with missing zip codes."
   ]
  },
  {
   "cell_type": "code",
   "execution_count": null,
   "metadata": {
    "hidden": true
   },
   "outputs": [],
   "source": [
    "sales_data = sales_data.loc[~sales_data['ZipCode'].isna(), :]\n",
    "\n",
    "sales_data.head()"
   ]
  },
  {
   "cell_type": "markdown",
   "metadata": {
    "heading_collapsed": true
   },
   "source": [
    "# Time Permitting: Data Cleaning Exercises with Pandas"
   ]
  },
  {
   "cell_type": "markdown",
   "metadata": {
    "heading_collapsed": true,
    "hidden": true
   },
   "source": [
    "## Investigate and drop rows with invalid values in the SalePrice and SqFtTotLiving columns."
   ]
  },
  {
   "cell_type": "code",
   "execution_count": null,
   "metadata": {
    "hidden": true
   },
   "outputs": [],
   "source": []
  },
  {
   "cell_type": "markdown",
   "metadata": {
    "hidden": true
   },
   "source": [
    "<details>\n",
    "    <summary>One possible answer here</summary>\n",
    "\n",
    "```python\n",
    "sales_data = sales_data[sales_data['SalePrice'] > 10000]\n",
    "```\n",
    "</details>"
   ]
  },
  {
   "cell_type": "markdown",
   "metadata": {
    "heading_collapsed": true,
    "hidden": true
   },
   "source": [
    "## Investigate and handle non-numeric ZipCode values"
   ]
  },
  {
   "cell_type": "markdown",
   "metadata": {
    "hidden": true
   },
   "source": [
    "Can you find a way to shorten ZIP+4 codes to the first five digits?"
   ]
  },
  {
   "cell_type": "code",
   "execution_count": null,
   "metadata": {
    "hidden": true
   },
   "outputs": [],
   "source": [
    "def is_integer(x):\n",
    "    try:\n",
    "        _ = int(x)\n",
    "    except ValueError:\n",
    "        return False\n",
    "    return True\n",
    "\n",
    "sales_data.loc[sales_data['ZipCode'].apply(is_integer) == False, 'ZipCode'].head()"
   ]
  },
  {
   "cell_type": "code",
   "execution_count": null,
   "metadata": {
    "hidden": true
   },
   "outputs": [],
   "source": []
  },
  {
   "cell_type": "markdown",
   "metadata": {
    "hidden": true
   },
   "source": [
    "<details>\n",
    "    <summary>One possible answer here</summary>\n",
    "\n",
    "```python\n",
    "def five_digit_ZIP(x):\n",
    "    try:\n",
    "        return int(str(x)[:5])\n",
    "    except:\n",
    "        return x\n",
    "    \n",
    "sales_data['ZipCode'] = sales_data['ZipCode'].map(five_digit_ZIP)\n",
    "sales_data = sales_data.loc[sales_data['ZipCode'].apply(is_integer) == True, :]\n",
    "sales_data['ZipCode'] = sales_data['ZipCode'].map(int)\n",
    "```\n",
    "</details>"
   ]
  },
  {
   "cell_type": "markdown",
   "metadata": {
    "heading_collapsed": true,
    "hidden": true
   },
   "source": [
    "## Add a column for PricePerSqFt"
   ]
  },
  {
   "cell_type": "code",
   "execution_count": null,
   "metadata": {
    "hidden": true
   },
   "outputs": [],
   "source": []
  },
  {
   "cell_type": "markdown",
   "metadata": {
    "hidden": true
   },
   "source": [
    "<details>\n",
    "    <summary>Answer here</summary>\n",
    "\n",
    "```python\n",
    "sales_data['PricePerSqFt'] = sales_data['SalePrice'] / sales_data['SqFtTotLiving']\n",
    "```\n",
    "</details>"
   ]
  },
  {
   "cell_type": "markdown",
   "metadata": {
    "heading_collapsed": true,
    "hidden": true
   },
   "source": [
    "## Subset the data to 2021 sales only"
   ]
  },
  {
   "cell_type": "markdown",
   "metadata": {
    "hidden": true
   },
   "source": [
    "We can assume that the DocumentDate is approximately the sale date."
   ]
  },
  {
   "cell_type": "code",
   "execution_count": null,
   "metadata": {
    "hidden": true
   },
   "outputs": [],
   "source": []
  },
  {
   "cell_type": "markdown",
   "metadata": {
    "hidden": true
   },
   "source": [
    "<details>\n",
    "    <summary>Answer here</summary>\n",
    "\n",
    "```python\n",
    "sales_data['DocumentDate'] = pd.to_datetime(sales_data['DocumentDate'])\n",
    "sales_data = sales_data.loc[sales_data['DocumentDate'] > '12/31/2020']\n",
    "```\n",
    "</details>"
   ]
  },
  {
   "cell_type": "markdown",
   "metadata": {
    "heading_collapsed": true,
    "hidden": true
   },
   "source": [
    "## What is the mean price per square foot for a house sold in Seattle in 2021?"
   ]
  },
  {
   "cell_type": "code",
   "execution_count": null,
   "metadata": {
    "hidden": true
   },
   "outputs": [],
   "source": []
  },
  {
   "cell_type": "markdown",
   "metadata": {
    "hidden": true
   },
   "source": [
    "<details>\n",
    "    <summary>Answer here</summary>\n",
    "\n",
    "```python\n",
    "sales_data['PricePerSqFt'].mean()\n",
    "```\n",
    "</details>"
   ]
  },
  {
   "cell_type": "markdown",
   "metadata": {
    "heading_collapsed": true
   },
   "source": [
    "# Level Up: `pandas.set_option()`"
   ]
  },
  {
   "cell_type": "markdown",
   "metadata": {
    "hidden": true
   },
   "source": [
    "We can adjust how `pandas` works by setting options in advance."
   ]
  },
  {
   "cell_type": "markdown",
   "metadata": {
    "hidden": true
   },
   "source": [
    "For complete documentation, see [here](https://pandas.pydata.org/pandas-docs/stable/user_guide/options.html)."
   ]
  },
  {
   "cell_type": "markdown",
   "metadata": {
    "heading_collapsed": true,
    "hidden": true
   },
   "source": [
    "## Block Scientific Notation"
   ]
  },
  {
   "cell_type": "markdown",
   "metadata": {
    "hidden": true
   },
   "source": [
    "For example, suppose we want to prevent numbers from being displayed in scientific notation."
   ]
  },
  {
   "cell_type": "code",
   "execution_count": null,
   "metadata": {
    "hidden": true
   },
   "outputs": [],
   "source": [
    "df = pd.DataFrame([[1e9, 2e9], [3e9, 4e9]])\n",
    "df"
   ]
  },
  {
   "cell_type": "markdown",
   "metadata": {
    "hidden": true
   },
   "source": [
    "Then we can use:"
   ]
  },
  {
   "cell_type": "code",
   "execution_count": null,
   "metadata": {
    "hidden": true
   },
   "outputs": [],
   "source": [
    "pd.set_option('display.float_format', '{:.2f}'.format)\n",
    "\n",
    "df"
   ]
  },
  {
   "cell_type": "markdown",
   "metadata": {
    "heading_collapsed": true,
    "hidden": true
   },
   "source": [
    "## See More Rows"
   ]
  },
  {
   "cell_type": "markdown",
   "metadata": {
    "hidden": true
   },
   "source": [
    "Or suppose we want `pandas` to show more rows."
   ]
  },
  {
   "cell_type": "code",
   "execution_count": null,
   "metadata": {
    "hidden": true
   },
   "outputs": [],
   "source": [
    "df2 = pd.DataFrame(np.array(range(100)))\n",
    "df2"
   ]
  },
  {
   "cell_type": "markdown",
   "metadata": {
    "hidden": true
   },
   "source": [
    "In that case we can use:"
   ]
  },
  {
   "cell_type": "code",
   "execution_count": null,
   "metadata": {
    "hidden": true
   },
   "outputs": [],
   "source": [
    "pd.set_option('display.max_rows', 100)\n",
    "\n",
    "df2"
   ]
  }
 ],
 "metadata": {
  "kernelspec": {
   "display_name": "Python 3",
   "language": "python",
   "name": "python3"
  },
  "language_info": {
   "codemirror_mode": {
    "name": "ipython",
    "version": 3
   },
   "file_extension": ".py",
   "mimetype": "text/x-python",
   "name": "python",
   "nbconvert_exporter": "python",
   "pygments_lexer": "ipython3",
   "version": "3.8.5"
  },
  "toc": {
   "base_numbering": 1,
   "nav_menu": {},
   "number_sections": true,
   "sideBar": true,
   "skip_h1_title": false,
   "title_cell": "Table of Contents",
   "title_sidebar": "TOC",
   "toc_cell": true,
   "toc_position": {
    "height": "calc(100% - 180px)",
    "left": "10px",
    "top": "150px",
    "width": "288px"
   },
   "toc_section_display": true,
   "toc_window_display": true
  }
 },
 "nbformat": 4,
 "nbformat_minor": 2
}
